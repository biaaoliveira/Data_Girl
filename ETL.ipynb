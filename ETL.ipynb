{
  "nbformat": 4,
  "nbformat_minor": 0,
  "metadata": {
    "colab": {
      "provenance": [],
      "toc_visible": true,
      "authorship_tag": "ABX9TyNSk8J9q4yfHGVFGm1UKFHm",
      "include_colab_link": true
    },
    "kernelspec": {
      "name": "python3",
      "display_name": "Python 3"
    },
    "language_info": {
      "name": "python"
    }
  },
  "cells": [
    {
      "cell_type": "markdown",
      "metadata": {
        "id": "view-in-github",
        "colab_type": "text"
      },
      "source": [
        "<a href=\"https://colab.research.google.com/github/biaaoliveira/Data_Girl/blob/main/ETL.ipynb\" target=\"_parent\"><img src=\"https://colab.research.google.com/assets/colab-badge.svg\" alt=\"Open In Colab\"/></a>"
      ]
    },
    {
      "cell_type": "code",
      "execution_count": null,
      "metadata": {
        "id": "govfyIRX-Y5s"
      },
      "outputs": [],
      "source": []
    },
    {
      "cell_type": "markdown",
      "source": [
        "IMPORTAR PANDAS"
      ],
      "metadata": {
        "id": "iX5N4RUsPpvw"
      }
    },
    {
      "cell_type": "code",
      "source": [
        "import pandas as pd"
      ],
      "metadata": {
        "id": "Xqym53RePr97"
      },
      "execution_count": null,
      "outputs": []
    },
    {
      "cell_type": "code",
      "source": [
        "df = pd.read_csv('SuperHeroes.csv', sep = ';')"
      ],
      "metadata": {
        "id": "fEHx8y0LPutt"
      },
      "execution_count": null,
      "outputs": []
    },
    {
      "cell_type": "code",
      "source": [
        "print(df)"
      ],
      "metadata": {
        "colab": {
          "base_uri": "https://localhost:8080/"
        },
        "id": "FGsRUMhVP3ja",
        "outputId": "b16d1a45-751d-4e6b-88e9-310b3036182b"
      },
      "execution_count": null,
      "outputs": [
        {
          "output_type": "stream",
          "name": "stdout",
          "text": [
            "             Name  Gender                Eye color             Race  \\\n",
            "0           Alien    Male                  unknown  Xenomorph XX121   \n",
            "1    Killer Frost  Female                     blue            Human   \n",
            "2        Mystique  Female  yellow (without irises)           Mutant   \n",
            "3          Nebula  Female                     blue        Luphomoid   \n",
            "4      Abe Sapien    Male                     blue    Icthyo Sapien   \n",
            "..            ...     ...                      ...              ...   \n",
            "729     Blackwulf    Male                      red            Alien   \n",
            "730    Anti-Venom    Male                     blue         Symbiote   \n",
            "731     Venompool    Male                  unknown         Symbiote   \n",
            "732             Q    Male                  unknown    God / Eternal   \n",
            "733    Brundlefly    Male                  unknown           Mutant   \n",
            "\n",
            "       Hair color  Height          Publisher Skin color Alignment  Weight  \n",
            "0         No Hair   244.0  Dark Horse Comics      black       bad   169.0  \n",
            "1           Blond     NaN          DC Comics       blue       bad     NaN  \n",
            "2    Red / Orange   178.0      Marvel Comics       blue       bad    54.0  \n",
            "3         No Hair   185.0      Marvel Comics       blue       bad    83.0  \n",
            "4         No Hair   191.0  Dark Horse Comics       blue      good    65.0  \n",
            "..            ...     ...                ...        ...       ...     ...  \n",
            "729         White   188.0      Marvel Comics    unknown   unknown    88.0  \n",
            "730         Blond   229.0      Marvel Comics    unknown   unknown   358.0  \n",
            "731       unknown   226.0      Marvel Comics    unknown   unknown     NaN  \n",
            "732       unknown     NaN          Star Trek    unknown   unknown     NaN  \n",
            "733       unknown   193.0            unknown    unknown   unknown     NaN  \n",
            "\n",
            "[734 rows x 10 columns]\n"
          ]
        }
      ]
    },
    {
      "cell_type": "code",
      "source": [
        "print(df.head())"
      ],
      "metadata": {
        "colab": {
          "base_uri": "https://localhost:8080/"
        },
        "id": "5SD6wl2iP7x7",
        "outputId": "b21cbba0-2baf-41e3-c2e2-7bd185be5524"
      },
      "execution_count": null,
      "outputs": [
        {
          "output_type": "stream",
          "name": "stdout",
          "text": [
            "           Name  Gender                Eye color             Race  \\\n",
            "0         Alien    Male                  unknown  Xenomorph XX121   \n",
            "1  Killer Frost  Female                     blue            Human   \n",
            "2      Mystique  Female  yellow (without irises)           Mutant   \n",
            "3        Nebula  Female                     blue        Luphomoid   \n",
            "4    Abe Sapien    Male                     blue    Icthyo Sapien   \n",
            "\n",
            "     Hair color  Height          Publisher Skin color Alignment  Weight  \n",
            "0       No Hair   244.0  Dark Horse Comics      black       bad   169.0  \n",
            "1         Blond     NaN          DC Comics       blue       bad     NaN  \n",
            "2  Red / Orange   178.0      Marvel Comics       blue       bad    54.0  \n",
            "3       No Hair   185.0      Marvel Comics       blue       bad    83.0  \n",
            "4       No Hair   191.0  Dark Horse Comics       blue      good    65.0  \n"
          ]
        }
      ]
    },
    {
      "cell_type": "code",
      "source": [
        "df = df.rename(columns={\n",
        "               'Name': 'Nome',\n",
        "               'Gender': 'Genero',\n",
        "               'Eye color': 'Cor_dos_olhos',\n",
        "               'Race': 'Raça',\n",
        "               'Hair color': 'Cor_do_cabelo',\n",
        "               'Height': 'Altura_cm',\n",
        "               'Publisher': 'Editora',\n",
        "               'Skin color': 'Cor_da_pele',\n",
        "               'Alignment': 'Alinhamento',\n",
        "               'Weight': 'Peso_kg'\n",
        "            })\n"
      ],
      "metadata": {
        "id": "v52G_z7rP-sD"
      },
      "execution_count": null,
      "outputs": []
    },
    {
      "cell_type": "code",
      "source": [
        "print(df.head())"
      ],
      "metadata": {
        "colab": {
          "base_uri": "https://localhost:8080/"
        },
        "id": "eFWXR7C7Q34L",
        "outputId": "98304e35-ce97-4e98-e613-d36b28f9e150"
      },
      "execution_count": null,
      "outputs": [
        {
          "output_type": "stream",
          "name": "stdout",
          "text": [
            "           Nome  Genero            Cor_dos_olhos             Raça  \\\n",
            "0         Alien    Male                  unknown  Xenomorph XX121   \n",
            "1  Killer Frost  Female                     blue            Human   \n",
            "2      Mystique  Female  yellow (without irises)           Mutant   \n",
            "3        Nebula  Female                     blue        Luphomoid   \n",
            "4    Abe Sapien    Male                     blue    Icthyo Sapien   \n",
            "\n",
            "  Cor_do_cabelo  Altura_cm            Editora Cor_da_pele Alinhamento  Peso_kg  \n",
            "0       No Hair      244.0  Dark Horse Comics       black         bad    169.0  \n",
            "1         Blond        NaN          DC Comics        blue         bad      NaN  \n",
            "2  Red / Orange      178.0      Marvel Comics        blue         bad     54.0  \n",
            "3       No Hair      185.0      Marvel Comics        blue         bad     83.0  \n",
            "4       No Hair      191.0  Dark Horse Comics        blue        good     65.0  \n"
          ]
        }
      ]
    },
    {
      "cell_type": "code",
      "source": [
        "df['Genero'] =  df['Genero'].replace({\n",
        "    'Male': 'Masculino',\n",
        "    'Female': 'Feminino',\n",
        "    'Unknows': 'Desconhecido'\n",
        "})"
      ],
      "metadata": {
        "id": "aZYcccX1RIeE"
      },
      "execution_count": null,
      "outputs": []
    },
    {
      "cell_type": "code",
      "source": [
        "print(df.head())"
      ],
      "metadata": {
        "colab": {
          "base_uri": "https://localhost:8080/"
        },
        "id": "IUs9DL2lRNJz",
        "outputId": "adc84098-36f8-4e0b-c7f2-8369afe33502"
      },
      "execution_count": null,
      "outputs": [
        {
          "output_type": "stream",
          "name": "stdout",
          "text": [
            "           Nome     Genero            Cor_dos_olhos             Raça  \\\n",
            "0         Alien  Masculino                  unknown  Xenomorph XX121   \n",
            "1  Killer Frost   Feminino                     blue            Human   \n",
            "2      Mystique   Feminino  yellow (without irises)           Mutant   \n",
            "3        Nebula   Feminino                     blue        Luphomoid   \n",
            "4    Abe Sapien  Masculino                     blue    Icthyo Sapien   \n",
            "\n",
            "  Cor_do_cabelo  Altura_cm            Editora Cor_da_pele Alinhamento  Peso_kg  \n",
            "0       No Hair      244.0  Dark Horse Comics       black         bad    169.0  \n",
            "1         Blond        NaN          DC Comics        blue         bad      NaN  \n",
            "2  Red / Orange      178.0      Marvel Comics        blue         bad     54.0  \n",
            "3       No Hair      185.0      Marvel Comics        blue         bad     83.0  \n",
            "4       No Hair      191.0  Dark Horse Comics        blue        good     65.0  \n"
          ]
        }
      ]
    },
    {
      "cell_type": "code",
      "source": [
        "df['Alinhamento'] =  df['Alinhamento'].replace({\n",
        "    'bad': 'mau',\n",
        "    'good': 'bom',\n",
        "    'Unknows': 'Desconhecido'\n",
        "})"
      ],
      "metadata": {
        "id": "75Rg8vaoRads"
      },
      "execution_count": null,
      "outputs": []
    },
    {
      "cell_type": "code",
      "source": [
        "print(df.head())"
      ],
      "metadata": {
        "colab": {
          "base_uri": "https://localhost:8080/"
        },
        "id": "lxxZTdpURghk",
        "outputId": "47284221-3aac-4171-d846-2f384274f155"
      },
      "execution_count": null,
      "outputs": [
        {
          "output_type": "stream",
          "name": "stdout",
          "text": [
            "           Nome     Genero            Cor_dos_olhos             Raça  \\\n",
            "0         Alien  Masculino                  unknown  Xenomorph XX121   \n",
            "1  Killer Frost   Feminino                     blue            Human   \n",
            "2      Mystique   Feminino  yellow (without irises)           Mutant   \n",
            "3        Nebula   Feminino                     blue        Luphomoid   \n",
            "4    Abe Sapien  Masculino                     blue    Icthyo Sapien   \n",
            "\n",
            "  Cor_do_cabelo  Altura_cm            Editora Cor_da_pele Alinhamento  Peso_kg  \n",
            "0       No Hair      244.0  Dark Horse Comics       black         mau    169.0  \n",
            "1         Blond        NaN          DC Comics        blue         mau      NaN  \n",
            "2  Red / Orange      178.0      Marvel Comics        blue         mau     54.0  \n",
            "3       No Hair      185.0      Marvel Comics        blue         mau     83.0  \n",
            "4       No Hair      191.0  Dark Horse Comics        blue         bom     65.0  \n"
          ]
        }
      ]
    },
    {
      "cell_type": "code",
      "source": [
        "df['Altura_m'] = df['Altura_cm'] / 100"
      ],
      "metadata": {
        "id": "lGFsgsnmRpUc"
      },
      "execution_count": null,
      "outputs": []
    },
    {
      "cell_type": "code",
      "source": [
        "print(df.head())"
      ],
      "metadata": {
        "colab": {
          "base_uri": "https://localhost:8080/"
        },
        "id": "oU9D3R_aRxV2",
        "outputId": "5661cca4-f46f-4cf8-d737-4d9f7103d819"
      },
      "execution_count": null,
      "outputs": [
        {
          "output_type": "stream",
          "name": "stdout",
          "text": [
            "           Nome     Genero            Cor_dos_olhos             Raça  \\\n",
            "0         Alien  Masculino                  unknown  Xenomorph XX121   \n",
            "1  Killer Frost   Feminino                     blue            Human   \n",
            "2      Mystique   Feminino  yellow (without irises)           Mutant   \n",
            "3        Nebula   Feminino                     blue        Luphomoid   \n",
            "4    Abe Sapien  Masculino                     blue    Icthyo Sapien   \n",
            "\n",
            "  Cor_do_cabelo  Altura_cm            Editora Cor_da_pele Alinhamento  \\\n",
            "0       No Hair      244.0  Dark Horse Comics       black         mau   \n",
            "1         Blond        NaN          DC Comics        blue         mau   \n",
            "2  Red / Orange      178.0      Marvel Comics        blue         mau   \n",
            "3       No Hair      185.0      Marvel Comics        blue         mau   \n",
            "4       No Hair      191.0  Dark Horse Comics        blue         bom   \n",
            "\n",
            "   Peso_kg  Altura_m  \n",
            "0    169.0      2.44  \n",
            "1      NaN       NaN  \n",
            "2     54.0      1.78  \n",
            "3     83.0      1.85  \n",
            "4     65.0      1.91  \n"
          ]
        }
      ]
    },
    {
      "cell_type": "code",
      "source": [
        "df['IMC'] = df['Peso_kg'] / (df['Altura_m'] ** 2)"
      ],
      "metadata": {
        "id": "-AKeTnh5R0Qz"
      },
      "execution_count": null,
      "outputs": []
    },
    {
      "cell_type": "code",
      "source": [
        "print(df.head())"
      ],
      "metadata": {
        "colab": {
          "base_uri": "https://localhost:8080/"
        },
        "id": "YnhWIDbfR6Hp",
        "outputId": "a9c8acc8-2ec0-40c4-9d1b-18adf06e52f8"
      },
      "execution_count": null,
      "outputs": [
        {
          "output_type": "stream",
          "name": "stdout",
          "text": [
            "           Nome     Genero            Cor_dos_olhos             Raça  \\\n",
            "0         Alien  Masculino                  unknown  Xenomorph XX121   \n",
            "1  Killer Frost   Feminino                     blue            Human   \n",
            "2      Mystique   Feminino  yellow (without irises)           Mutant   \n",
            "3        Nebula   Feminino                     blue        Luphomoid   \n",
            "4    Abe Sapien  Masculino                     blue    Icthyo Sapien   \n",
            "\n",
            "  Cor_do_cabelo  Altura_cm            Editora Cor_da_pele Alinhamento  \\\n",
            "0       No Hair      244.0  Dark Horse Comics       black         mau   \n",
            "1         Blond        NaN          DC Comics        blue         mau   \n",
            "2  Red / Orange      178.0      Marvel Comics        blue         mau   \n",
            "3       No Hair      185.0      Marvel Comics        blue         mau   \n",
            "4       No Hair      191.0  Dark Horse Comics        blue         bom   \n",
            "\n",
            "   Peso_kg  Altura_m        IMC  \n",
            "0    169.0      2.44  28.386187  \n",
            "1      NaN       NaN        NaN  \n",
            "2     54.0      1.78  17.043303  \n",
            "3     83.0      1.85  24.251278  \n",
            "4     65.0      1.91  17.817494  \n"
          ]
        }
      ]
    },
    {
      "cell_type": "code",
      "source": [
        "df = df.drop_duplicates(subset = 'Nome')"
      ],
      "metadata": {
        "id": "XeMzuK3SSGUp"
      },
      "execution_count": null,
      "outputs": []
    },
    {
      "cell_type": "code",
      "source": [
        "print(df.head())"
      ],
      "metadata": {
        "colab": {
          "base_uri": "https://localhost:8080/"
        },
        "id": "7QPrf2zsSN5w",
        "outputId": "5e672d92-f255-4a02-e216-b2a64b402d41"
      },
      "execution_count": null,
      "outputs": [
        {
          "output_type": "stream",
          "name": "stdout",
          "text": [
            "           Nome     Genero            Cor_dos_olhos             Raça  \\\n",
            "0         Alien  Masculino                  unknown  Xenomorph XX121   \n",
            "1  Killer Frost   Feminino                     blue            Human   \n",
            "2      Mystique   Feminino  yellow (without irises)           Mutant   \n",
            "3        Nebula   Feminino                     blue        Luphomoid   \n",
            "4    Abe Sapien  Masculino                     blue    Icthyo Sapien   \n",
            "\n",
            "  Cor_do_cabelo  Altura_cm            Editora Cor_da_pele Alinhamento  \\\n",
            "0       No Hair      244.0  Dark Horse Comics       black         mau   \n",
            "1         Blond        NaN          DC Comics        blue         mau   \n",
            "2  Red / Orange      178.0      Marvel Comics        blue         mau   \n",
            "3       No Hair      185.0      Marvel Comics        blue         mau   \n",
            "4       No Hair      191.0  Dark Horse Comics        blue         bom   \n",
            "\n",
            "   Peso_kg  Altura_m        IMC  \n",
            "0    169.0      2.44  28.386187  \n",
            "1      NaN       NaN        NaN  \n",
            "2     54.0      1.78  17.043303  \n",
            "3     83.0      1.85  24.251278  \n",
            "4     65.0      1.91  17.817494  \n"
          ]
        }
      ]
    },
    {
      "cell_type": "code",
      "source": [
        "df_feminino = df[df['Genero'] == 'Feminino']"
      ],
      "metadata": {
        "id": "7XABMMIvSihb"
      },
      "execution_count": null,
      "outputs": []
    },
    {
      "cell_type": "code",
      "source": [
        "print(df_feminino)"
      ],
      "metadata": {
        "colab": {
          "base_uri": "https://localhost:8080/"
        },
        "id": "DZ79mxXUSyxs",
        "outputId": "59f7e554-ca17-4f18-92fa-69eeeb041fab"
      },
      "execution_count": null,
      "outputs": [
        {
          "output_type": "stream",
          "name": "stdout",
          "text": [
            "                 Nome    Genero            Cor_dos_olhos       Raça  \\\n",
            "1        Killer Frost  Feminino                     blue      Human   \n",
            "2            Mystique  Feminino  yellow (without irises)     Mutant   \n",
            "3              Nebula  Feminino                     blue  Luphomoid   \n",
            "6         Shadow Lass  Feminino                    black   Talokite   \n",
            "9             Copycat  Feminino                      red     Mutant   \n",
            "..                ...       ...                      ...        ...   \n",
            "703      Bionic Woman  Feminino                     blue     Cyborg   \n",
            "707  Katniss Everdeen  Feminino                  unknown      Human   \n",
            "713          Robin VI  Feminino                    green      Human   \n",
            "714            Indigo  Feminino                  unknown      Alien   \n",
            "717             Raven  Feminino                   indigo      Human   \n",
            "\n",
            "    Cor_do_cabelo  Altura_cm        Editora Cor_da_pele Alinhamento  Peso_kg  \\\n",
            "1           Blond        NaN      DC Comics        blue         mau      NaN   \n",
            "2    Red / Orange      178.0  Marvel Comics        blue         mau     54.0   \n",
            "3         No Hair      185.0  Marvel Comics        blue         mau     83.0   \n",
            "6           Black      173.0      DC Comics        blue         bom     54.0   \n",
            "9           White      183.0  Marvel Comics        blue     neutral     67.0   \n",
            "..            ...        ...            ...         ...         ...      ...   \n",
            "703         Black        NaN        unknown     unknown         bom      NaN   \n",
            "707       unknown        NaN        unknown     unknown         bom      NaN   \n",
            "713           Red        NaN      DC Comics     unknown     neutral      NaN   \n",
            "714        Purple        NaN      DC Comics     unknown     neutral      NaN   \n",
            "717         Black      165.0      DC Comics     unknown     neutral     50.0   \n",
            "\n",
            "     Altura_m        IMC  \n",
            "1         NaN        NaN  \n",
            "2        1.78  17.043303  \n",
            "3        1.85  24.251278  \n",
            "6        1.73  18.042701  \n",
            "9        1.83  20.006569  \n",
            "..        ...        ...  \n",
            "703       NaN        NaN  \n",
            "707       NaN        NaN  \n",
            "713       NaN        NaN  \n",
            "714       NaN        NaN  \n",
            "717      1.65  18.365473  \n",
            "\n",
            "[197 rows x 12 columns]\n"
          ]
        }
      ]
    },
    {
      "cell_type": "code",
      "source": [
        "df_contagem_editora = df.groupby('Editora')['Nome'].count().reset_index()"
      ],
      "metadata": {
        "id": "YmtXKqyPS2eD"
      },
      "execution_count": null,
      "outputs": []
    },
    {
      "cell_type": "code",
      "source": [
        "df_contagem_editora = df_contagem_editora.rename(columns={'Nome': 'Quantidade_personagens'})"
      ],
      "metadata": {
        "id": "XiscAg45TlDU"
      },
      "execution_count": null,
      "outputs": []
    },
    {
      "cell_type": "code",
      "source": [
        "print(df_contagem_editora)"
      ],
      "metadata": {
        "colab": {
          "base_uri": "https://localhost:8080/"
        },
        "id": "UKFc_Kl9Txyj",
        "outputId": "da62168a-acbc-461c-a9b2-45d8841dca8c"
      },
      "execution_count": null,
      "outputs": [
        {
          "output_type": "stream",
          "name": "stdout",
          "text": [
            "              Editora  Quantidade_personagens\n",
            "0         ABC Studios                       4\n",
            "1           DC Comics                     208\n",
            "2   Dark Horse Comics                      18\n",
            "3        George Lucas                      14\n",
            "4       Hanna-Barbera                       1\n",
            "5       HarperCollins                       6\n",
            "6      IDW Publishing                       4\n",
            "7         Icon Comics                       4\n",
            "8        Image Comics                      14\n",
            "9       J. K. Rowling                       1\n",
            "10   J. R. R. Tolkien                       1\n",
            "11      Marvel Comics                     376\n",
            "12          Microsoft                       1\n",
            "13       NBC - Heroes                      19\n",
            "14          Rebellion                       1\n",
            "15           Shueisha                       4\n",
            "16      Sony Pictures                       2\n",
            "17         South Park                       1\n",
            "18          Star Trek                       6\n",
            "19               SyFy                       5\n",
            "20       Team Epic TV                       5\n",
            "21        Titan Books                       1\n",
            "22  Universal Studios                       1\n",
            "23          Wildstorm                       3\n",
            "24            unknown                      15\n"
          ]
        }
      ]
    },
    {
      "cell_type": "code",
      "source": [
        "df.to_csv('personagens_tratados.csv', sep=';')"
      ],
      "metadata": {
        "id": "eUndmcYvT1Pn"
      },
      "execution_count": null,
      "outputs": []
    },
    {
      "cell_type": "code",
      "source": [
        "df_contagem_editora.to_csv('contagem_editora.csv', sep=';')"
      ],
      "metadata": {
        "id": "fp9jBMjGUYz9"
      },
      "execution_count": null,
      "outputs": []
    },
    {
      "cell_type": "code",
      "source": [
        "df_feminino.to_csv('Personagem_feminino.csv', sep=';')"
      ],
      "metadata": {
        "id": "YlNsTkykUg8h"
      },
      "execution_count": null,
      "outputs": []
    }
  ]
}