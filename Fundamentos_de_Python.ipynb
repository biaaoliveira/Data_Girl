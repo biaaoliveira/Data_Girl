{
  "nbformat": 4,
  "nbformat_minor": 0,
  "metadata": {
    "colab": {
      "provenance": [],
      "include_colab_link": true
    },
    "kernelspec": {
      "name": "python3",
      "display_name": "Python 3"
    },
    "language_info": {
      "name": "python"
    }
  },
  "cells": [
    {
      "cell_type": "markdown",
      "metadata": {
        "id": "view-in-github",
        "colab_type": "text"
      },
      "source": [
        "<a href=\"https://colab.research.google.com/github/biaaoliveira/Data_Girl/blob/main/Fundamentos_de_Python.ipynb\" target=\"_parent\"><img src=\"https://colab.research.google.com/assets/colab-badge.svg\" alt=\"Open In Colab\"/></a>"
      ]
    },
    {
      "cell_type": "markdown",
      "source": [
        "# Fundamentos de Python: Tipos de Dados, Estruturas de Controle, Funções e Manipulação de Arquivos\n"
      ],
      "metadata": {
        "id": "Oo-zaTWPZ7-x"
      }
    },
    {
      "cell_type": "markdown",
      "source": [
        "Python é uma linguagem de programação poderosa, conhecida por sua simplicidade e legibilidade, com sintaxe clara e legível. A mesma é de alto nível, interpretada e de tipagem dinâmica. Dominar seus fundamentos é essencial para qualquer desenvolvedor. A seguir, abordamos os principais conceitos: tipos de dados, estruturas de controle, funções e manipulação de arquivos, com exemplos práticos."
      ],
      "metadata": {
        "id": "RPFVd82PZ-wY"
      }
    },
    {
      "cell_type": "markdown",
      "source": [
        "## 1. Tipos de Dados em Python"
      ],
      "metadata": {
        "id": "-75rBoRTbrb7"
      }
    },
    {
      "cell_type": "markdown",
      "source": [
        "**a. Numéricos**\n",
        "\n",
        "int: Números inteiros\n",
        "\n",
        "float: Números decimais (ponto flutuante)\n",
        "\n",
        "complex: Números complexos"
      ],
      "metadata": {
        "id": "67W2qM2abzwi"
      }
    },
    {
      "cell_type": "code",
      "execution_count": null,
      "metadata": {
        "colab": {
          "base_uri": "https://localhost:8080/"
        },
        "id": "LaPVyIPRZvb2",
        "outputId": "bff6d422-2caf-4aaf-8e1c-5b5fcafef91d"
      },
      "outputs": [
        {
          "output_type": "stream",
          "name": "stdout",
          "text": [
            "Tipo do dado da variavel idade: <class 'int'>\n",
            "Tipo do dado da variavel altura: <class 'float'>\n",
            "Tipo do dado da variavel Num_complexo: <class 'complex'>\n"
          ]
        }
      ],
      "source": [
        "idade = 25           # int\n",
        "altura = 1.75        # float\n",
        "num_complexo = 3 + 4j # complex\n",
        "\n",
        "print(f\"Tipo do dado da variavel idade: {type(idade)}\")\n",
        "print(f\"Tipo do dado da variavel altura: {type(altura)}\")\n",
        "print(f\"Tipo do dado da variavel Num_complexo: {type(num_complexo)}\")"
      ]
    },
    {
      "cell_type": "markdown",
      "source": [
        "**b. Booleanos**\n",
        "\n",
        "Valores lógicos: True ou False"
      ],
      "metadata": {
        "id": "LkOSOq0QdZWG"
      }
    },
    {
      "cell_type": "code",
      "source": [
        "esta_chovendo = True\n",
        "print(f\"Tipo da variavel esta_chovendo: {type(esta_chovendo)}\")  # <class 'bool'>"
      ],
      "metadata": {
        "colab": {
          "base_uri": "https://localhost:8080/"
        },
        "id": "mM-kDK1bdQek",
        "outputId": "8036ab30-f6f0-44ac-f0b8-6164399b95b4"
      },
      "execution_count": null,
      "outputs": [
        {
          "output_type": "stream",
          "name": "stdout",
          "text": [
            "Tipo da variavel esta_chovendo: <class 'bool'>\n"
          ]
        }
      ]
    },
    {
      "cell_type": "markdown",
      "source": [
        "**c. Strings**\n",
        "\n",
        "Sequência de caracteres."
      ],
      "metadata": {
        "id": "mY9-4OaOdjuN"
      }
    },
    {
      "cell_type": "code",
      "source": [
        "nome = \"João\"\n",
        "mensagem = f\"Olá, {nome}!\"\n",
        "print(mensagem)\n",
        "print(f\"Tipo da variavel nome: {type(nome)}\")"
      ],
      "metadata": {
        "colab": {
          "base_uri": "https://localhost:8080/"
        },
        "id": "SHG95IVNdiAT",
        "outputId": "6cef89ce-c468-4c11-c6cc-1f898eef3623"
      },
      "execution_count": null,
      "outputs": [
        {
          "output_type": "stream",
          "name": "stdout",
          "text": [
            "Olá, João!\n",
            "Tipo da variavel nome: <class 'str'>\n"
          ]
        }
      ]
    },
    {
      "cell_type": "markdown",
      "source": [
        "**d. Listas**\n",
        "\n",
        "Coleção ordenada e mutável de elementos."
      ],
      "metadata": {
        "id": "XpTcn39KeGhM"
      }
    },
    {
      "cell_type": "code",
      "source": [
        "lista = list()\n",
        "print(f\"Tipo da variavel lista: {type(lista)}\")"
      ],
      "metadata": {
        "colab": {
          "base_uri": "https://localhost:8080/"
        },
        "id": "JwzAekHl4c0A",
        "outputId": "ba8f31de-b93f-480e-df7c-0555404175c6"
      },
      "execution_count": null,
      "outputs": [
        {
          "output_type": "stream",
          "name": "stdout",
          "text": [
            "Tipo da variavel lista: <class 'list'>\n"
          ]
        }
      ]
    },
    {
      "cell_type": "code",
      "source": [
        "lista = []\n",
        "print(f\"Tipo da variavel lista: {type(lista)}\")"
      ],
      "metadata": {
        "colab": {
          "base_uri": "https://localhost:8080/"
        },
        "id": "5eyFH78t4k7X",
        "outputId": "7c781828-a17b-4314-afea-54ff47844791"
      },
      "execution_count": null,
      "outputs": [
        {
          "output_type": "stream",
          "name": "stdout",
          "text": [
            "Tipo da variavel lista: <class 'list'>\n"
          ]
        }
      ]
    },
    {
      "cell_type": "code",
      "source": [
        "frutas = [\"maçã\", \"banana\", \"laranja\"]\n",
        "print(f\"Tipo da variavel frutas: {type(frutas)}\")\n"
      ],
      "metadata": {
        "colab": {
          "base_uri": "https://localhost:8080/"
        },
        "id": "ial7VeqZd_dB",
        "outputId": "292f9432-2171-432e-94e2-1bf1e6162865"
      },
      "execution_count": null,
      "outputs": [
        {
          "output_type": "stream",
          "name": "stdout",
          "text": [
            "Tipo da variavel frutas: <class 'list'>\n"
          ]
        }
      ]
    },
    {
      "cell_type": "markdown",
      "source": [
        "Alterando o valor de um elemento existente na lista - mutavel"
      ],
      "metadata": {
        "id": "083eT6UepLZK"
      }
    },
    {
      "cell_type": "code",
      "source": [
        "frutas[1] = \"pera\"\n",
        "print(frutas)"
      ],
      "metadata": {
        "colab": {
          "base_uri": "https://localhost:8080/"
        },
        "id": "tT2DRtQOpVZS",
        "outputId": "3838199a-ab11-462a-a126-f0a110a6ad50"
      },
      "execution_count": null,
      "outputs": [
        {
          "output_type": "stream",
          "name": "stdout",
          "text": [
            "['maçã', 'pera', 'laranja']\n"
          ]
        }
      ]
    },
    {
      "cell_type": "markdown",
      "source": [
        "Inserindo elementos na lista"
      ],
      "metadata": {
        "id": "kzDG5kQeePKL"
      }
    },
    {
      "cell_type": "code",
      "source": [
        "frutas.append(\"uva\")\n",
        "print(frutas)"
      ],
      "metadata": {
        "colab": {
          "base_uri": "https://localhost:8080/"
        },
        "id": "fKdEI-TPeOmI",
        "outputId": "9d139c3e-e3cc-4794-d1d4-f33fc1d43636"
      },
      "execution_count": null,
      "outputs": [
        {
          "output_type": "stream",
          "name": "stdout",
          "text": [
            "['maçã', 'pera', 'laranja', 'uva']\n"
          ]
        }
      ]
    },
    {
      "cell_type": "markdown",
      "source": [
        "Imprimindo a posicao e o respectivo elemento na lista"
      ],
      "metadata": {
        "id": "pyjec3yQibHu"
      }
    },
    {
      "cell_type": "code",
      "source": [
        "for i, fruta in enumerate(frutas):\n",
        "    print(f\"Posição: {i}, Fruta: {fruta}\")"
      ],
      "metadata": {
        "colab": {
          "base_uri": "https://localhost:8080/"
        },
        "id": "navkqr_BiiVu",
        "outputId": "8742fffd-16be-44b1-8eac-b5e49d5bb8fc"
      },
      "execution_count": null,
      "outputs": [
        {
          "output_type": "stream",
          "name": "stdout",
          "text": [
            "Posição: 0, Fruta: maçã\n",
            "Posição: 1, Fruta: pera\n",
            "Posição: 2, Fruta: laranja\n",
            "Posição: 3, Fruta: uva\n"
          ]
        }
      ]
    },
    {
      "cell_type": "markdown",
      "source": [
        "Juntando duas listas em uma unica"
      ],
      "metadata": {
        "id": "SM5SE1zdeZYj"
      }
    },
    {
      "cell_type": "code",
      "source": [
        "frutas_raras = [\"durian\", \"rambutã\", \"kiwano\", \"akee\", \"mão-de-buda\", \"physalis\", \"seriguela\", \"tamarilho\"]\n",
        "novas_frutas = frutas + frutas_raras\n",
        "print(novas_frutas)"
      ],
      "metadata": {
        "colab": {
          "base_uri": "https://localhost:8080/"
        },
        "id": "qrwfTCYFeUUg",
        "outputId": "9510cc0a-e699-47dc-b20c-20dbcad5f41f"
      },
      "execution_count": null,
      "outputs": [
        {
          "output_type": "stream",
          "name": "stdout",
          "text": [
            "['maçã', 'pera', 'laranja', 'uva', 'durian', 'rambutã', 'kiwano', 'akee', 'mão-de-buda', 'physalis', 'seriguela', 'tamarilho']\n"
          ]
        }
      ]
    },
    {
      "cell_type": "code",
      "source": [
        "frutas.extend(frutas_raras)\n",
        "print(frutas)"
      ],
      "metadata": {
        "colab": {
          "base_uri": "https://localhost:8080/"
        },
        "id": "rXsIOaDWhgMf",
        "outputId": "d2856a19-c926-4cf4-fa4e-f388ca27848b"
      },
      "execution_count": null,
      "outputs": [
        {
          "output_type": "stream",
          "name": "stdout",
          "text": [
            "['maçã', 'pera', 'laranja', 'uva', 'durian', 'rambutã', 'kiwano', 'akee', 'mão-de-buda', 'physalis', 'seriguela', 'tamarilho']\n"
          ]
        }
      ]
    },
    {
      "cell_type": "markdown",
      "source": [
        "Removendo elementos da lista"
      ],
      "metadata": {
        "id": "5mn_UNGGhpcx"
      }
    },
    {
      "cell_type": "code",
      "source": [
        "frutas.remove(\"pera\")\n",
        "print(frutas)"
      ],
      "metadata": {
        "colab": {
          "base_uri": "https://localhost:8080/"
        },
        "id": "uhfaHU3NhnhO",
        "outputId": "0a7a7cfb-dea4-41a1-8a79-0949dcbd6f93"
      },
      "execution_count": null,
      "outputs": [
        {
          "output_type": "stream",
          "name": "stdout",
          "text": [
            "['maçã', 'laranja', 'uva', 'durian', 'rambutã', 'kiwano', 'akee', 'mão-de-buda', 'physalis', 'seriguela', 'tamarilho']\n"
          ]
        }
      ]
    },
    {
      "cell_type": "code",
      "source": [
        "frutas.remove(\"kiwi\")\n",
        "print(frutas)"
      ],
      "metadata": {
        "colab": {
          "base_uri": "https://localhost:8080/",
          "height": 159
        },
        "id": "GzWQxqbB2CNP",
        "outputId": "ed752d7e-d033-4745-dc35-ddba4d6e1a03"
      },
      "execution_count": null,
      "outputs": [
        {
          "output_type": "error",
          "ename": "ValueError",
          "evalue": "list.remove(x): x not in list",
          "traceback": [
            "\u001b[0;31m---------------------------------------------------------------------------\u001b[0m",
            "\u001b[0;31mValueError\u001b[0m                                Traceback (most recent call last)",
            "\u001b[0;32m<ipython-input-86-607ac3042708>\u001b[0m in \u001b[0;36m<cell line: 0>\u001b[0;34m()\u001b[0m\n\u001b[0;32m----> 1\u001b[0;31m \u001b[0mfrutas\u001b[0m\u001b[0;34m.\u001b[0m\u001b[0mremove\u001b[0m\u001b[0;34m(\u001b[0m\u001b[0;34m\"kiwi\"\u001b[0m\u001b[0;34m)\u001b[0m\u001b[0;34m\u001b[0m\u001b[0;34m\u001b[0m\u001b[0m\n\u001b[0m\u001b[1;32m      2\u001b[0m \u001b[0mprint\u001b[0m\u001b[0;34m(\u001b[0m\u001b[0mfrutas\u001b[0m\u001b[0;34m)\u001b[0m\u001b[0;34m\u001b[0m\u001b[0;34m\u001b[0m\u001b[0m\n",
            "\u001b[0;31mValueError\u001b[0m: list.remove(x): x not in list"
          ]
        }
      ]
    },
    {
      "cell_type": "markdown",
      "source": [
        "Removendo o ultimo elemento da lista"
      ],
      "metadata": {
        "id": "iLYmpOTJh0mB"
      }
    },
    {
      "cell_type": "code",
      "source": [
        "frutas.pop()\n",
        "print(frutas)"
      ],
      "metadata": {
        "colab": {
          "base_uri": "https://localhost:8080/"
        },
        "id": "VDY6pajVhvV1",
        "outputId": "674019f7-cfa7-46b9-91ef-5804c84f8b4d"
      },
      "execution_count": null,
      "outputs": [
        {
          "output_type": "stream",
          "name": "stdout",
          "text": [
            "['maçã', 'laranja', 'uva', 'durian', 'rambutã', 'kiwano', 'akee', 'mão-de-buda', 'physalis', 'seriguela']\n"
          ]
        }
      ]
    },
    {
      "cell_type": "code",
      "source": [
        "frutas.pop(2)\n",
        "print(frutas)"
      ],
      "metadata": {
        "colab": {
          "base_uri": "https://localhost:8080/"
        },
        "id": "wuKOHNzniBuU",
        "outputId": "48700ee3-ade9-45fd-dc3f-a888056a6a8a"
      },
      "execution_count": null,
      "outputs": [
        {
          "output_type": "stream",
          "name": "stdout",
          "text": [
            "['maçã', 'laranja', 'durian', 'rambutã', 'kiwano', 'akee', 'mão-de-buda', 'physalis', 'seriguela']\n"
          ]
        }
      ]
    },
    {
      "cell_type": "markdown",
      "source": [
        "Inserir um elemento em uma determinada posicao"
      ],
      "metadata": {
        "id": "00vriF07kSEZ"
      }
    },
    {
      "cell_type": "code",
      "source": [
        "frutas.insert(1, \"banana\")\n",
        "print(frutas)"
      ],
      "metadata": {
        "colab": {
          "base_uri": "https://localhost:8080/"
        },
        "id": "xsgN1FxaiSv0",
        "outputId": "62569334-28b3-44f6-8a35-af8b19ba4c1f"
      },
      "execution_count": null,
      "outputs": [
        {
          "output_type": "stream",
          "name": "stdout",
          "text": [
            "['maçã', 'banana', 'laranja', 'durian', 'rambutã', 'kiwano', 'akee', 'mão-de-buda', 'physalis', 'seriguela']\n"
          ]
        }
      ]
    },
    {
      "cell_type": "markdown",
      "source": [
        "Verificando o tamanho da lista"
      ],
      "metadata": {
        "id": "Yie7HMDune5_"
      }
    },
    {
      "cell_type": "code",
      "source": [
        "print(f\"Tamanho da lista: {len(frutas)}\")"
      ],
      "metadata": {
        "colab": {
          "base_uri": "https://localhost:8080/"
        },
        "id": "akYhJ3_1ni0n",
        "outputId": "9c0fc19e-0763-4239-8f69-6f710f4f1a6e"
      },
      "execution_count": null,
      "outputs": [
        {
          "output_type": "stream",
          "name": "stdout",
          "text": [
            "Tamanho da lista: 10\n"
          ]
        }
      ]
    },
    {
      "cell_type": "markdown",
      "source": [
        "Imprimindo apenas um pedaco da lista"
      ],
      "metadata": {
        "id": "Do2ozA98nGCA"
      }
    },
    {
      "cell_type": "code",
      "source": [
        "print(frutas[1:4]) # das posicoes 1,2,3 intervalo aberto no ultimo elemento"
      ],
      "metadata": {
        "colab": {
          "base_uri": "https://localhost:8080/"
        },
        "id": "nbiYv8r8kekF",
        "outputId": "774e25b3-4337-4630-f52b-76872e93e4a7"
      },
      "execution_count": null,
      "outputs": [
        {
          "output_type": "stream",
          "name": "stdout",
          "text": [
            "['banana', 'laranja', 'durian']\n"
          ]
        }
      ]
    },
    {
      "cell_type": "markdown",
      "source": [
        "Ordenando uma lista"
      ],
      "metadata": {
        "id": "vAcTt41jsxi_"
      }
    },
    {
      "cell_type": "code",
      "source": [
        "print(frutas)\n",
        "frutas.sort()\n",
        "print(frutas)"
      ],
      "metadata": {
        "colab": {
          "base_uri": "https://localhost:8080/"
        },
        "id": "W4WVOahqszq_",
        "outputId": "3f67f4d8-59f3-48ec-ed3d-f738172e035d"
      },
      "execution_count": null,
      "outputs": [
        {
          "output_type": "stream",
          "name": "stdout",
          "text": [
            "['maçã', 'banana', 'laranja', 'durian', 'rambutã', 'kiwano', 'akee', 'mão-de-buda', 'physalis', 'seriguela']\n",
            "['akee', 'banana', 'durian', 'kiwano', 'laranja', 'maçã', 'mão-de-buda', 'physalis', 'rambutã', 'seriguela']\n"
          ]
        }
      ]
    },
    {
      "cell_type": "markdown",
      "source": [
        "Sorted(), uma alternativa ao sort()"
      ],
      "metadata": {
        "id": "JeIyjP0vuh_i"
      }
    },
    {
      "cell_type": "code",
      "source": [
        "print(frutas_raras)\n",
        "print(sorted(frutas_raras))"
      ],
      "metadata": {
        "colab": {
          "base_uri": "https://localhost:8080/"
        },
        "id": "fVm1nLqguODj",
        "outputId": "87a8c748-8f94-401e-c12d-0384c1e68950"
      },
      "execution_count": null,
      "outputs": [
        {
          "output_type": "stream",
          "name": "stdout",
          "text": [
            "['durian', 'rambutã', 'kiwano', 'akee', 'mão-de-buda', 'physalis', 'seriguela', 'tamarilho']\n",
            "['akee', 'durian', 'kiwano', 'mão-de-buda', 'physalis', 'rambutã', 'seriguela', 'tamarilho']\n"
          ]
        }
      ]
    },
    {
      "cell_type": "code",
      "source": [
        "print(frutas_raras)"
      ],
      "metadata": {
        "colab": {
          "base_uri": "https://localhost:8080/"
        },
        "id": "WMSNjtwm6hth",
        "outputId": "cd3ae96d-152b-4f65-91d2-85375b602651"
      },
      "execution_count": null,
      "outputs": [
        {
          "output_type": "stream",
          "name": "stdout",
          "text": [
            "['durian', 'rambutã', 'kiwano', 'akee', 'mão-de-buda', 'physalis', 'seriguela', 'tamarilho']\n"
          ]
        }
      ]
    },
    {
      "cell_type": "markdown",
      "source": [
        "Removendo todos os elementos da lista"
      ],
      "metadata": {
        "id": "ekmS9xbBo1qj"
      }
    },
    {
      "cell_type": "code",
      "source": [
        "frutas.clear()\n",
        "print(frutas)"
      ],
      "metadata": {
        "colab": {
          "base_uri": "https://localhost:8080/"
        },
        "id": "sjGp1OHGn7W7",
        "outputId": "70ad133b-ecf7-4eb2-f9e1-0b2eb2620b37"
      },
      "execution_count": null,
      "outputs": [
        {
          "output_type": "stream",
          "name": "stdout",
          "text": [
            "[]\n"
          ]
        }
      ]
    },
    {
      "cell_type": "markdown",
      "source": [
        "**e. Tuplas**\n",
        "\n",
        "Coleção ordenada, porém imutável."
      ],
      "metadata": {
        "id": "Cy-SAakQsAeR"
      }
    },
    {
      "cell_type": "code",
      "source": [
        "coordenadas = (10.0, 20.5)\n",
        "print(coordenadas[0])\n"
      ],
      "metadata": {
        "colab": {
          "base_uri": "https://localhost:8080/"
        },
        "id": "tkZuZGh9o6kY",
        "outputId": "2d6e93a6-78cb-46e5-eae9-13252a147a74"
      },
      "execution_count": null,
      "outputs": [
        {
          "output_type": "stream",
          "name": "stdout",
          "text": [
            "10.0\n"
          ]
        }
      ]
    },
    {
      "cell_type": "markdown",
      "source": [
        "Inserindo elementos na tupla"
      ],
      "metadata": {
        "id": "gAugs6AKu23Z"
      }
    },
    {
      "cell_type": "code",
      "source": [
        "coordenadas = coordenadas + (30.0,)\n",
        "print(coordenadas)"
      ],
      "metadata": {
        "colab": {
          "base_uri": "https://localhost:8080/"
        },
        "id": "eXXZtLpNu2Hd",
        "outputId": "249c9787-4448-4401-aeb1-1e47a346baca"
      },
      "execution_count": null,
      "outputs": [
        {
          "output_type": "stream",
          "name": "stdout",
          "text": [
            "(10.0, 20.5, 30.0)\n"
          ]
        }
      ]
    },
    {
      "cell_type": "markdown",
      "source": [
        "Alterando um valor na tupla - resulta em erro pois tuplas sao imutaveis"
      ],
      "metadata": {
        "id": "ZK8wf2xFu_UQ"
      }
    },
    {
      "cell_type": "code",
      "source": [
        "coordenadas[0] = 15.0\n",
        "print(coordenadas)"
      ],
      "metadata": {
        "colab": {
          "base_uri": "https://localhost:8080/",
          "height": 159
        },
        "id": "lv0YUkAnu9jf",
        "outputId": "dd6d97f6-44bc-40a3-831d-9f9502f21892"
      },
      "execution_count": null,
      "outputs": [
        {
          "output_type": "error",
          "ename": "TypeError",
          "evalue": "'tuple' object does not support item assignment",
          "traceback": [
            "\u001b[0;31m---------------------------------------------------------------------------\u001b[0m",
            "\u001b[0;31mTypeError\u001b[0m                                 Traceback (most recent call last)",
            "\u001b[0;32m<ipython-input-35-3db15187e839>\u001b[0m in \u001b[0;36m<cell line: 0>\u001b[0;34m()\u001b[0m\n\u001b[0;32m----> 1\u001b[0;31m \u001b[0mcoordenadas\u001b[0m\u001b[0;34m[\u001b[0m\u001b[0;36m0\u001b[0m\u001b[0;34m]\u001b[0m \u001b[0;34m=\u001b[0m \u001b[0;36m15.0\u001b[0m\u001b[0;34m\u001b[0m\u001b[0;34m\u001b[0m\u001b[0m\n\u001b[0m\u001b[1;32m      2\u001b[0m \u001b[0mprint\u001b[0m\u001b[0;34m(\u001b[0m\u001b[0mcoordenadas\u001b[0m\u001b[0;34m)\u001b[0m\u001b[0;34m\u001b[0m\u001b[0;34m\u001b[0m\u001b[0m\n",
            "\u001b[0;31mTypeError\u001b[0m: 'tuple' object does not support item assignment"
          ]
        }
      ]
    },
    {
      "cell_type": "markdown",
      "source": [
        "Contando quantas vezes um elemento aparece na tupla"
      ],
      "metadata": {
        "id": "cfx3TnD5wrmr"
      }
    },
    {
      "cell_type": "code",
      "source": [
        "coordenadas = coordenadas + (30.0, 30.0, 35.0)\n",
        "print(coordenadas)\n",
        "print(f\"O numero 30.0 aparece na tupla coodenada {coordenadas.count(30.0)} vezes\")"
      ],
      "metadata": {
        "colab": {
          "base_uri": "https://localhost:8080/"
        },
        "id": "wzHVeN8RvIP0",
        "outputId": "09ca77ff-39c0-461a-c2d7-da3a77bcb390"
      },
      "execution_count": null,
      "outputs": [
        {
          "output_type": "stream",
          "name": "stdout",
          "text": [
            "(10.0, 20.5, 30.0, 30.0, 30.0, 35.0)\n",
            "O numero 30.0 aparece na tupla coodenada 3 vezes\n"
          ]
        }
      ]
    },
    {
      "cell_type": "markdown",
      "source": [
        "Retornar o indice da primeira ocorrencia de um item especifico"
      ],
      "metadata": {
        "id": "eXkOJVfYxcdx"
      }
    },
    {
      "cell_type": "code",
      "source": [
        "print(coordenadas)\n",
        "print(f\"O numero 30.0 aparece na posicao {coordenadas.index(30.0)}\")"
      ],
      "metadata": {
        "colab": {
          "base_uri": "https://localhost:8080/"
        },
        "id": "o3O8OYUuxGim",
        "outputId": "da014292-4e6d-4a47-81c9-471be4bb1250"
      },
      "execution_count": null,
      "outputs": [
        {
          "output_type": "stream",
          "name": "stdout",
          "text": [
            "(10.0, 20.5, 30.0, 30.0, 30.0, 35.0)\n",
            "O numero 30.0 aparece na posicao 2\n"
          ]
        }
      ]
    },
    {
      "cell_type": "markdown",
      "source": [
        "**f. Dicionários**\n",
        "\n",
        "Coleção de pares chave-valor."
      ],
      "metadata": {
        "id": "6ADTMT12zQCj"
      }
    },
    {
      "cell_type": "code",
      "source": [
        "pessoa = {\"nome\": \"Ana\", \"idade\": 30}\n",
        "print(type(pessoa))"
      ],
      "metadata": {
        "colab": {
          "base_uri": "https://localhost:8080/"
        },
        "id": "ycK3xBr2xnHt",
        "outputId": "52122982-b4ca-482c-dc4d-d404607e55c7"
      },
      "execution_count": null,
      "outputs": [
        {
          "output_type": "stream",
          "name": "stdout",
          "text": [
            "<class 'dict'>\n"
          ]
        }
      ]
    },
    {
      "cell_type": "markdown",
      "source": [
        "Mostrando as chaves"
      ],
      "metadata": {
        "id": "k1xT5Vh_zyPZ"
      }
    },
    {
      "cell_type": "code",
      "source": [
        "chaves = pessoa.keys()\n",
        "print(chaves)"
      ],
      "metadata": {
        "colab": {
          "base_uri": "https://localhost:8080/"
        },
        "id": "E0nrJ_hNzxn-",
        "outputId": "6f458e90-1be6-4089-dc63-9d99a13d43a3"
      },
      "execution_count": null,
      "outputs": [
        {
          "output_type": "stream",
          "name": "stdout",
          "text": [
            "dict_keys(['nome', 'idade'])\n"
          ]
        }
      ]
    },
    {
      "cell_type": "markdown",
      "source": [
        "Mostrando os valores"
      ],
      "metadata": {
        "id": "scJHmCXbz1_p"
      }
    },
    {
      "cell_type": "code",
      "source": [
        "valores = pessoa.values()\n",
        "print(valores)"
      ],
      "metadata": {
        "colab": {
          "base_uri": "https://localhost:8080/"
        },
        "id": "1xD8lSZOz3oO",
        "outputId": "d3c85455-a4cd-462b-837a-92a2d490fa35"
      },
      "execution_count": null,
      "outputs": [
        {
          "output_type": "stream",
          "name": "stdout",
          "text": [
            "dict_values(['Ana', 30])\n"
          ]
        }
      ]
    },
    {
      "cell_type": "markdown",
      "source": [
        "Mostrando ambos"
      ],
      "metadata": {
        "id": "aLGk4AGtz4BS"
      }
    },
    {
      "cell_type": "code",
      "source": [
        "for chave, valor in pessoa.items():\n",
        "    print(f\"Chave: {chave}, Valor: {valor}\")"
      ],
      "metadata": {
        "colab": {
          "base_uri": "https://localhost:8080/"
        },
        "id": "vH7ZDIs5z5km",
        "outputId": "83cab9e0-a1f3-41fa-931f-af19b4690074"
      },
      "execution_count": null,
      "outputs": [
        {
          "output_type": "stream",
          "name": "stdout",
          "text": [
            "Chave: nome, Valor: Ana\n",
            "Chave: idade, Valor: 30\n"
          ]
        }
      ]
    },
    {
      "cell_type": "markdown",
      "source": [
        "Acessando valores com base nas chaves"
      ],
      "metadata": {
        "id": "8YBcU8UK0kEH"
      }
    },
    {
      "cell_type": "code",
      "source": [
        "print(pessoa[\"nome\"])"
      ],
      "metadata": {
        "colab": {
          "base_uri": "https://localhost:8080/"
        },
        "id": "iwOV7E7x0Lt1",
        "outputId": "7c882bb7-018d-4310-c380-b3991d910c8f"
      },
      "execution_count": null,
      "outputs": [
        {
          "output_type": "stream",
          "name": "stdout",
          "text": [
            "Ana\n"
          ]
        }
      ]
    },
    {
      "cell_type": "code",
      "source": [
        "print(pessoa[\"endereco\"])"
      ],
      "metadata": {
        "colab": {
          "base_uri": "https://localhost:8080/",
          "height": 141
        },
        "id": "XXvl56Az7q6t",
        "outputId": "5fb5e619-6dd8-4cec-f304-14944f137bcd"
      },
      "execution_count": null,
      "outputs": [
        {
          "output_type": "error",
          "ename": "KeyError",
          "evalue": "'endereco'",
          "traceback": [
            "\u001b[0;31m---------------------------------------------------------------------------\u001b[0m",
            "\u001b[0;31mKeyError\u001b[0m                                  Traceback (most recent call last)",
            "\u001b[0;32m<ipython-input-91-b22f962f3136>\u001b[0m in \u001b[0;36m<cell line: 0>\u001b[0;34m()\u001b[0m\n\u001b[0;32m----> 1\u001b[0;31m \u001b[0mprint\u001b[0m\u001b[0;34m(\u001b[0m\u001b[0mpessoa\u001b[0m\u001b[0;34m[\u001b[0m\u001b[0;34m\"endereco\"\u001b[0m\u001b[0;34m]\u001b[0m\u001b[0;34m)\u001b[0m\u001b[0;34m\u001b[0m\u001b[0;34m\u001b[0m\u001b[0m\n\u001b[0m",
            "\u001b[0;31mKeyError\u001b[0m: 'endereco'"
          ]
        }
      ]
    },
    {
      "cell_type": "markdown",
      "source": [
        "Usando o `.get()` para evitar erro se a chave nao existir"
      ],
      "metadata": {
        "id": "mK6lq5sU0tAP"
      }
    },
    {
      "cell_type": "code",
      "source": [
        "print(pessoa.get(\"idade\"))"
      ],
      "metadata": {
        "colab": {
          "base_uri": "https://localhost:8080/"
        },
        "id": "0mN_hvv40pA8",
        "outputId": "452628b2-0cc0-432b-d574-978b43b9d401"
      },
      "execution_count": null,
      "outputs": [
        {
          "output_type": "stream",
          "name": "stdout",
          "text": [
            "30\n"
          ]
        }
      ]
    },
    {
      "cell_type": "code",
      "source": [
        "print(pessoa.get(\"endereco\")) # chave que nao existe"
      ],
      "metadata": {
        "colab": {
          "base_uri": "https://localhost:8080/"
        },
        "id": "vPOlt9F803Tj",
        "outputId": "32488226-6997-4f93-a02b-d9d4bb057ed2"
      },
      "execution_count": null,
      "outputs": [
        {
          "output_type": "stream",
          "name": "stdout",
          "text": [
            "None\n"
          ]
        }
      ]
    },
    {
      "cell_type": "markdown",
      "source": [
        "Inserindo valores em uma nova chave"
      ],
      "metadata": {
        "id": "HxViqdya3cYN"
      }
    },
    {
      "cell_type": "code",
      "source": [
        "pessoa['endereco'] = 'Rua A, 123'\n",
        "print(pessoa)"
      ],
      "metadata": {
        "colab": {
          "base_uri": "https://localhost:8080/"
        },
        "id": "igyOuTXx07gL",
        "outputId": "fac65edb-9a78-4770-bc57-f16d8a2f2e21"
      },
      "execution_count": null,
      "outputs": [
        {
          "output_type": "stream",
          "name": "stdout",
          "text": [
            "{'nome': 'Ana', 'idade': 30, 'endereco': 'Rua A, 123'}\n"
          ]
        }
      ]
    },
    {
      "cell_type": "markdown",
      "source": [
        "Alterando o valor de uma chave ja existente"
      ],
      "metadata": {
        "id": "VjWB90Cs3mKm"
      }
    },
    {
      "cell_type": "code",
      "source": [
        "pessoa['nome'] = \"Ana Silva\"\n",
        "print(pessoa)"
      ],
      "metadata": {
        "colab": {
          "base_uri": "https://localhost:8080/"
        },
        "id": "XC7t7NbD3lUa",
        "outputId": "ff300921-5519-44b2-c3a7-d9951d8fa789"
      },
      "execution_count": null,
      "outputs": [
        {
          "output_type": "stream",
          "name": "stdout",
          "text": [
            "{'nome': 'Ana Silva', 'idade': 30, 'endereco': 'Rua A, 123'}\n"
          ]
        }
      ]
    },
    {
      "cell_type": "markdown",
      "source": [
        "Alterando multiplas chaves"
      ],
      "metadata": {
        "id": "EdVzxHHqdCzl"
      }
    },
    {
      "cell_type": "code",
      "source": [
        "print(pessoa)\n",
        "pessoa_2 = {\"nome\": \"Joao\", \"idade\": 32}\n",
        "pessoa.update(pessoa_2)\n",
        "print(pessoa)"
      ],
      "metadata": {
        "colab": {
          "base_uri": "https://localhost:8080/"
        },
        "id": "CYmQnbTf4tYn",
        "outputId": "007f9225-c3b1-405d-b4e3-9c8c1d24f2d8"
      },
      "execution_count": null,
      "outputs": [
        {
          "output_type": "stream",
          "name": "stdout",
          "text": [
            "{'nome': 'Ana Silva', 'idade': 30, 'endereco': 'Rua A, 123'}\n",
            "{'nome': 'Joao', 'idade': 32, 'endereco': 'Rua A, 123'}\n"
          ]
        }
      ]
    },
    {
      "cell_type": "markdown",
      "source": [
        "Removendo um item dada uma chave especifica"
      ],
      "metadata": {
        "id": "c8xig2N9drOr"
      }
    },
    {
      "cell_type": "code",
      "source": [
        "valor_endereco = pessoa.pop(\"endereco\")\n",
        "print(pessoa)"
      ],
      "metadata": {
        "colab": {
          "base_uri": "https://localhost:8080/"
        },
        "id": "ZhsuJ5CBdSps",
        "outputId": "3587b1c0-e667-4b59-e2fd-f66a8622f6eb"
      },
      "execution_count": null,
      "outputs": [
        {
          "output_type": "stream",
          "name": "stdout",
          "text": [
            "{'nome': 'Joao', 'idade': 32}\n"
          ]
        }
      ]
    },
    {
      "cell_type": "markdown",
      "source": [
        "Remover e retornar o último par chave-valor"
      ],
      "metadata": {
        "id": "BjlD-6mLd-WC"
      }
    },
    {
      "cell_type": "code",
      "source": [
        "ultimo_item = pessoa.popitem()\n",
        "print(ultimo_item)\n",
        "print(pessoa)"
      ],
      "metadata": {
        "colab": {
          "base_uri": "https://localhost:8080/"
        },
        "id": "-PG-Doifd9Yh",
        "outputId": "15c71815-0ca7-4bb2-e3e5-3b8e6dd3312c"
      },
      "execution_count": null,
      "outputs": [
        {
          "output_type": "stream",
          "name": "stdout",
          "text": [
            "('idade', 32)\n",
            "{'nome': 'Joao'}\n"
          ]
        }
      ]
    },
    {
      "cell_type": "markdown",
      "source": [
        "Removendo todos os itens do dicionario"
      ],
      "metadata": {
        "id": "z9eyhwIjgW0L"
      }
    },
    {
      "cell_type": "code",
      "source": [
        "pessoa.clear()\n",
        "print(pessoa)"
      ],
      "metadata": {
        "colab": {
          "base_uri": "https://localhost:8080/"
        },
        "id": "ocy8_Lnifgr9",
        "outputId": "47da90c1-54c2-4c97-ce1b-21b5e24a6d7a"
      },
      "execution_count": null,
      "outputs": [
        {
          "output_type": "stream",
          "name": "stdout",
          "text": [
            "{}\n"
          ]
        }
      ]
    },
    {
      "cell_type": "markdown",
      "source": [
        "**g. Conjuntos (sets)**\n",
        "\n",
        "Coleção não ordenada e sem elementos repetidos."
      ],
      "metadata": {
        "id": "Bprq850Igoxi"
      }
    },
    {
      "cell_type": "code",
      "source": [
        "numeros = {1, 2, 3, 3}\n",
        "print(numeros)"
      ],
      "metadata": {
        "colab": {
          "base_uri": "https://localhost:8080/"
        },
        "id": "Z0JvvXamghPR",
        "outputId": "b3788e17-b92b-4169-f63a-207fb9dde40f"
      },
      "execution_count": null,
      "outputs": [
        {
          "output_type": "stream",
          "name": "stdout",
          "text": [
            "{1, 2, 3}\n"
          ]
        }
      ]
    },
    {
      "cell_type": "markdown",
      "source": [
        "Incluindo valor duplicado"
      ],
      "metadata": {
        "id": "CI5i00mRhFd4"
      }
    },
    {
      "cell_type": "code",
      "source": [
        "numeros.add(1)\n",
        "print(numeros)"
      ],
      "metadata": {
        "colab": {
          "base_uri": "https://localhost:8080/"
        },
        "id": "BtcrBMPPhBTp",
        "outputId": "a7d49f4a-390e-4af8-9266-8b44fd13f0f0"
      },
      "execution_count": null,
      "outputs": [
        {
          "output_type": "stream",
          "name": "stdout",
          "text": [
            "{1, 2, 3}\n"
          ]
        }
      ]
    },
    {
      "cell_type": "markdown",
      "source": [
        "Incluindo apenas um valor"
      ],
      "metadata": {
        "id": "ur0J0OQNjoOB"
      }
    },
    {
      "cell_type": "code",
      "source": [
        "numeros.add(4)\n",
        "print(numeros)"
      ],
      "metadata": {
        "colab": {
          "base_uri": "https://localhost:8080/"
        },
        "id": "juXbZdMejk5p",
        "outputId": "cb26e341-f230-4b3e-9e65-d54d0180b64c"
      },
      "execution_count": null,
      "outputs": [
        {
          "output_type": "stream",
          "name": "stdout",
          "text": [
            "{1, 2, 3, 4}\n"
          ]
        }
      ]
    },
    {
      "cell_type": "markdown",
      "source": [
        "Adicionando multiplos valores ao conjunto"
      ],
      "metadata": {
        "id": "1MZzx9QBjcDZ"
      }
    },
    {
      "cell_type": "code",
      "source": [
        "outros_numeros = {5, 6, 7}\n",
        "numeros.update(outros_numeros)\n",
        "print(numeros)"
      ],
      "metadata": {
        "colab": {
          "base_uri": "https://localhost:8080/"
        },
        "id": "IRSsJngCg_a4",
        "outputId": "280c04df-deca-414a-f8f0-8770aacfe0b0"
      },
      "execution_count": null,
      "outputs": [
        {
          "output_type": "stream",
          "name": "stdout",
          "text": [
            "{1, 2, 3, 4, 5, 6, 7}\n"
          ]
        }
      ]
    },
    {
      "cell_type": "markdown",
      "source": [
        "Remove um elemento específico, gera um KeyError se o elemento não for encontrado"
      ],
      "metadata": {
        "id": "b7JmfemLkOg3"
      }
    },
    {
      "cell_type": "code",
      "source": [
        "numeros.remove(3)\n",
        "print(numeros)"
      ],
      "metadata": {
        "colab": {
          "base_uri": "https://localhost:8080/"
        },
        "id": "4v6cC1QjjtAY",
        "outputId": "e16594e2-7ac9-4d59-bc0e-d7458f551540"
      },
      "execution_count": null,
      "outputs": [
        {
          "output_type": "stream",
          "name": "stdout",
          "text": [
            "{1, 2, 4, 5, 6, 7}\n"
          ]
        }
      ]
    },
    {
      "cell_type": "code",
      "source": [
        "numeros.remove(8)\n",
        "print(numeros)"
      ],
      "metadata": {
        "colab": {
          "base_uri": "https://localhost:8080/",
          "height": 159
        },
        "id": "V5fmTVdjkVW3",
        "outputId": "98e34507-4b4d-45f8-e6d1-56a6f3006909"
      },
      "execution_count": null,
      "outputs": [
        {
          "output_type": "error",
          "ename": "KeyError",
          "evalue": "8",
          "traceback": [
            "\u001b[0;31m---------------------------------------------------------------------------\u001b[0m",
            "\u001b[0;31mKeyError\u001b[0m                                  Traceback (most recent call last)",
            "\u001b[0;32m<ipython-input-44-47cfbb3412df>\u001b[0m in \u001b[0;36m<cell line: 0>\u001b[0;34m()\u001b[0m\n\u001b[0;32m----> 1\u001b[0;31m \u001b[0mnumeros\u001b[0m\u001b[0;34m.\u001b[0m\u001b[0mremove\u001b[0m\u001b[0;34m(\u001b[0m\u001b[0;36m8\u001b[0m\u001b[0;34m)\u001b[0m\u001b[0;34m\u001b[0m\u001b[0;34m\u001b[0m\u001b[0m\n\u001b[0m\u001b[1;32m      2\u001b[0m \u001b[0mprint\u001b[0m\u001b[0;34m(\u001b[0m\u001b[0mnumeros\u001b[0m\u001b[0;34m)\u001b[0m\u001b[0;34m\u001b[0m\u001b[0;34m\u001b[0m\u001b[0m\n",
            "\u001b[0;31mKeyError\u001b[0m: 8"
          ]
        }
      ]
    },
    {
      "cell_type": "markdown",
      "source": [
        "Remove um elemento específico se estiver presente, não faz nada se o elemento não for encontrado"
      ],
      "metadata": {
        "id": "6yUI21_Ckciv"
      }
    },
    {
      "cell_type": "code",
      "source": [
        "numeros.discard(7)\n",
        "print(numeros)"
      ],
      "metadata": {
        "colab": {
          "base_uri": "https://localhost:8080/"
        },
        "id": "i1L4YrsvkUDe",
        "outputId": "d7a6cad7-1531-4f93-b4ed-6bf582a7290d"
      },
      "execution_count": null,
      "outputs": [
        {
          "output_type": "stream",
          "name": "stdout",
          "text": [
            "{1, 2, 4, 5, 6}\n"
          ]
        }
      ]
    },
    {
      "cell_type": "code",
      "source": [
        "numeros.discard(8)\n",
        "print(numeros)"
      ],
      "metadata": {
        "colab": {
          "base_uri": "https://localhost:8080/"
        },
        "id": "uveCvkHAknFF",
        "outputId": "c008d2c8-172c-4951-c73f-15f1db155797"
      },
      "execution_count": null,
      "outputs": [
        {
          "output_type": "stream",
          "name": "stdout",
          "text": [
            "{1, 2, 4, 5, 6}\n"
          ]
        }
      ]
    },
    {
      "cell_type": "markdown",
      "source": [
        "\n",
        "Remove e retorna um elemento arbitrário do conjunto"
      ],
      "metadata": {
        "id": "A6cmnpr0ku6F"
      }
    },
    {
      "cell_type": "code",
      "source": [
        "numeros.pop()\n",
        "print(numeros)"
      ],
      "metadata": {
        "colab": {
          "base_uri": "https://localhost:8080/"
        },
        "id": "8ZDmDCXUkqMl",
        "outputId": "8d38b1d3-5401-407a-8f95-0013c4dc632e"
      },
      "execution_count": null,
      "outputs": [
        {
          "output_type": "stream",
          "name": "stdout",
          "text": [
            "{2, 4, 5, 6}\n"
          ]
        }
      ]
    },
    {
      "cell_type": "markdown",
      "source": [
        "Unindo dois conjuntos"
      ],
      "metadata": {
        "id": "l9YNzVcZlPzd"
      }
    },
    {
      "cell_type": "code",
      "source": [
        "mais_numeros = {8, 9, 10}\n",
        "numeros = numeros.union(mais_numeros)\n",
        "print(numeros)"
      ],
      "metadata": {
        "colab": {
          "base_uri": "https://localhost:8080/"
        },
        "id": "jkSsATiXk9Xc",
        "outputId": "2f2a6b55-9129-4360-9a60-f80f4608777d"
      },
      "execution_count": null,
      "outputs": [
        {
          "output_type": "stream",
          "name": "stdout",
          "text": [
            "{2, 4, 5, 6, 8, 9, 10}\n"
          ]
        }
      ]
    },
    {
      "cell_type": "code",
      "source": [
        "mais_numeros = {11, 12}\n",
        "numeros = numeros | mais_numeros\n",
        "print(numeros)"
      ],
      "metadata": {
        "colab": {
          "base_uri": "https://localhost:8080/"
        },
        "id": "8TO_ELbtlhTL",
        "outputId": "2697bb8b-6c0e-4903-fd8a-fc7fa16e1045"
      },
      "execution_count": null,
      "outputs": [
        {
          "output_type": "stream",
          "name": "stdout",
          "text": [
            "{2, 4, 5, 6, 8, 9, 10, 11, 12}\n"
          ]
        }
      ]
    },
    {
      "cell_type": "markdown",
      "source": [
        "Fazendo a interseccao entre conjuntos"
      ],
      "metadata": {
        "id": "DKfQCxvKlpHz"
      }
    },
    {
      "cell_type": "code",
      "source": [
        "numeros_2 = {1, 2, 3, 4, 5}\n",
        "intersecao = numeros.intersection(numeros_2)\n",
        "print(intersecao)"
      ],
      "metadata": {
        "colab": {
          "base_uri": "https://localhost:8080/"
        },
        "id": "0OHmwaMQloB6",
        "outputId": "59faff53-8718-4ff5-9ac1-e6e00209231d"
      },
      "execution_count": null,
      "outputs": [
        {
          "output_type": "stream",
          "name": "stdout",
          "text": [
            "{2, 4, 5}\n"
          ]
        }
      ]
    },
    {
      "cell_type": "code",
      "source": [
        "numeros_2 = {1, 2, 3, 4}\n",
        "intersecao = numeros & numeros_2\n",
        "print(intersecao)"
      ],
      "metadata": {
        "colab": {
          "base_uri": "https://localhost:8080/"
        },
        "id": "WzPw9yc9lwYS",
        "outputId": "ee6cc20e-7095-4690-f60d-f76fd2bd324c"
      },
      "execution_count": null,
      "outputs": [
        {
          "output_type": "stream",
          "name": "stdout",
          "text": [
            "{2, 4}\n"
          ]
        }
      ]
    },
    {
      "cell_type": "markdown",
      "source": [
        "Retorna um novo conjunto com elementos em conjunto_1, mas não em conjunto_2"
      ],
      "metadata": {
        "id": "KQkXl13Kml1g"
      }
    },
    {
      "cell_type": "code",
      "source": [
        "diferenca = numeros.difference(numeros_2)\n",
        "print(diferenca)"
      ],
      "metadata": {
        "colab": {
          "base_uri": "https://localhost:8080/"
        },
        "id": "GOneuSSOl7eZ",
        "outputId": "9c0a6f79-4a0b-410d-8144-992ad2a8c69d"
      },
      "execution_count": null,
      "outputs": [
        {
          "output_type": "stream",
          "name": "stdout",
          "text": [
            "{5, 6, 8, 9, 10, 11, 12}\n"
          ]
        }
      ]
    },
    {
      "cell_type": "code",
      "source": [
        "diferenca = numeros - mais_numeros\n",
        "print(diferenca)"
      ],
      "metadata": {
        "colab": {
          "base_uri": "https://localhost:8080/"
        },
        "id": "w9ifY-M5mw2P",
        "outputId": "171ed5a6-8bbc-4a97-93ce-061e31bfcb52"
      },
      "execution_count": null,
      "outputs": [
        {
          "output_type": "stream",
          "name": "stdout",
          "text": [
            "{2, 4, 5, 6, 8, 9, 10}\n"
          ]
        }
      ]
    },
    {
      "cell_type": "markdown",
      "source": [
        "Retorna um novo conjunto com elementos presentes no conjunto_1 ou no conjunto_2, mas não em ambos"
      ],
      "metadata": {
        "id": "gP_CcsZ7nCkO"
      }
    },
    {
      "cell_type": "code",
      "source": [
        "numeros_extras = {1, 2, 11, 12, 13, 15, 16, 17, 18, 19}\n",
        "simetrica = numeros.symmetric_difference(numeros_extras)\n",
        "print(simetrica)"
      ],
      "metadata": {
        "colab": {
          "base_uri": "https://localhost:8080/"
        },
        "id": "JNVlaWwFm6GH",
        "outputId": "164b55ad-05a2-4a0a-a101-0c966453a539"
      },
      "execution_count": null,
      "outputs": [
        {
          "output_type": "stream",
          "name": "stdout",
          "text": [
            "{1, 4, 5, 6, 8, 9, 10, 13, 15, 16, 17, 18, 19}\n"
          ]
        }
      ]
    },
    {
      "cell_type": "code",
      "source": [
        "simetrica = numeros ^ numeros_extras\n",
        "print(simetrica)"
      ],
      "metadata": {
        "colab": {
          "base_uri": "https://localhost:8080/"
        },
        "id": "WRMpVyx5nZ_l",
        "outputId": "aaf93c96-ad18-42d4-ada6-717a8a841d7f"
      },
      "execution_count": null,
      "outputs": [
        {
          "output_type": "stream",
          "name": "stdout",
          "text": [
            "{1, 4, 5, 6, 8, 9, 10, 13, 15, 16, 17, 18, 19}\n"
          ]
        }
      ]
    },
    {
      "cell_type": "markdown",
      "source": [
        "Verifica se o conjunto_1 é um subconjunto do conjunto_2"
      ],
      "metadata": {
        "id": "2GEeDV1enit1"
      }
    },
    {
      "cell_type": "code",
      "source": [
        "print(numeros)"
      ],
      "metadata": {
        "colab": {
          "base_uri": "https://localhost:8080/"
        },
        "id": "31T9bpABoL_z",
        "outputId": "e1580e8c-9964-4574-cf01-ef70a8859462"
      },
      "execution_count": null,
      "outputs": [
        {
          "output_type": "stream",
          "name": "stdout",
          "text": [
            "{2, 4, 5, 6, 8, 9, 10, 11, 12}\n"
          ]
        }
      ]
    },
    {
      "cell_type": "code",
      "source": [
        "numeros_2 = {1, 2, 3, 4, 5}\n",
        "print(numeros.issubset(numeros_2))"
      ],
      "metadata": {
        "colab": {
          "base_uri": "https://localhost:8080/"
        },
        "id": "RdQ_LVzCniB1",
        "outputId": "0843a1d5-6dc9-4722-b7f4-399f9708c03b"
      },
      "execution_count": null,
      "outputs": [
        {
          "output_type": "stream",
          "name": "stdout",
          "text": [
            "False\n"
          ]
        }
      ]
    },
    {
      "cell_type": "code",
      "source": [
        "numeros <= numeros_2"
      ],
      "metadata": {
        "colab": {
          "base_uri": "https://localhost:8080/"
        },
        "id": "-XxLLMacoUHi",
        "outputId": "e8071e4e-b834-4c14-9f97-d52a6983e65f"
      },
      "execution_count": null,
      "outputs": [
        {
          "output_type": "execute_result",
          "data": {
            "text/plain": [
              "False"
            ]
          },
          "metadata": {},
          "execution_count": 61
        }
      ]
    },
    {
      "cell_type": "markdown",
      "source": [
        "Verifica se o conjunto_1 é um superconjunto do conjunto_2"
      ],
      "metadata": {
        "id": "ncfmT0pCoaiq"
      }
    },
    {
      "cell_type": "code",
      "source": [
        "numeros_2 = {2, 4, 5}\n",
        "print(numeros.issuperset(numeros_2))"
      ],
      "metadata": {
        "colab": {
          "base_uri": "https://localhost:8080/"
        },
        "id": "ydgcILwioaEq",
        "outputId": "7629cd3f-6006-46d4-aecc-fccb629af1ca"
      },
      "execution_count": null,
      "outputs": [
        {
          "output_type": "stream",
          "name": "stdout",
          "text": [
            "True\n"
          ]
        }
      ]
    },
    {
      "cell_type": "code",
      "source": [
        "numeros >= numeros_2"
      ],
      "metadata": {
        "colab": {
          "base_uri": "https://localhost:8080/"
        },
        "id": "0udbTL-doi1K",
        "outputId": "8a170ef2-691f-4335-b9b7-986b73fda060"
      },
      "execution_count": null,
      "outputs": [
        {
          "output_type": "execute_result",
          "data": {
            "text/plain": [
              "True"
            ]
          },
          "metadata": {},
          "execution_count": 64
        }
      ]
    },
    {
      "cell_type": "markdown",
      "source": [
        "Verifica se os dois conjuntos não possuem elementos em comum"
      ],
      "metadata": {
        "id": "GqBNkiX6o8Up"
      }
    },
    {
      "cell_type": "code",
      "source": [
        "numeros_3 = {15, 16, 17, 18, 19}\n",
        "print(numeros.isdisjoint(numeros_3))"
      ],
      "metadata": {
        "colab": {
          "base_uri": "https://localhost:8080/"
        },
        "id": "ePxduY-ao7dw",
        "outputId": "be536476-37b0-46d8-8cb0-a1216d31c538"
      },
      "execution_count": null,
      "outputs": [
        {
          "output_type": "stream",
          "name": "stdout",
          "text": [
            "True\n"
          ]
        }
      ]
    },
    {
      "cell_type": "markdown",
      "source": [
        "## 3. Funções"
      ],
      "metadata": {
        "id": "ZOmjTiXdpG1w"
      }
    },
    {
      "cell_type": "markdown",
      "source": [
        "Funções permitem reutilizar blocos de código."
      ],
      "metadata": {
        "id": "YkiPvOWRpXLP"
      }
    },
    {
      "cell_type": "markdown",
      "source": [
        "**a. Definindo e chamando funções**"
      ],
      "metadata": {
        "id": "AJFxfzFppajX"
      }
    },
    {
      "cell_type": "code",
      "source": [
        "def saudacao(nome):\n",
        "    return f\"Olá, {nome}!\"\n",
        "\n",
        "print(saudacao(\"Lucas\"))\n"
      ],
      "metadata": {
        "colab": {
          "base_uri": "https://localhost:8080/"
        },
        "id": "MUsnmM53pEt4",
        "outputId": "41ee010a-7592-44f9-d0de-9f288a1388f1"
      },
      "execution_count": null,
      "outputs": [
        {
          "output_type": "stream",
          "name": "stdout",
          "text": [
            "Olá, Lucas!\n"
          ]
        }
      ]
    },
    {
      "cell_type": "markdown",
      "source": [
        "**b. Argumentos padrão**"
      ],
      "metadata": {
        "id": "WqzevXjIpidX"
      }
    },
    {
      "cell_type": "code",
      "source": [
        "def apresentar(nome=\"Visitante\"):\n",
        "    print(f\"Bem-vindo, {nome}!\")\n",
        "\n",
        "apresentar()\n",
        "apresentar(\"Maria\")"
      ],
      "metadata": {
        "colab": {
          "base_uri": "https://localhost:8080/"
        },
        "id": "eqIEGMZXpgKH",
        "outputId": "7ded3a10-abbc-4d59-a45f-64a692eb7a5b"
      },
      "execution_count": null,
      "outputs": [
        {
          "output_type": "stream",
          "name": "stdout",
          "text": [
            "Bem-vindo, Visitante!\n",
            "Bem-vindo, Maria!\n"
          ]
        }
      ]
    },
    {
      "cell_type": "markdown",
      "source": [
        "**c. Funções com múltiplos parâmetros**"
      ],
      "metadata": {
        "id": "BX92S5xDpqDP"
      }
    },
    {
      "cell_type": "code",
      "source": [
        "def somar(a, b):\n",
        "    return a + b\n",
        "\n",
        "resultado = somar(3, 5)\n",
        "print(resultado)"
      ],
      "metadata": {
        "colab": {
          "base_uri": "https://localhost:8080/"
        },
        "id": "SUJf1pPdpnPu",
        "outputId": "b2287e4a-1622-4e9b-8ec4-5c83ce5b55e4"
      },
      "execution_count": null,
      "outputs": [
        {
          "output_type": "stream",
          "name": "stdout",
          "text": [
            "8\n"
          ]
        }
      ]
    },
    {
      "cell_type": "markdown",
      "source": [
        "**d. Funções built-in**\n",
        "\n",
        " Python possui funções internas como print(), len(), type(), max(), min(), sum(), entre outras.\n",
        "\n",
        " [Lista completa](https://docs.python.org/3/library/functions.html)"
      ],
      "metadata": {
        "id": "IzhNmcVip6ge"
      }
    },
    {
      "cell_type": "code",
      "source": [
        "numeros = [1, 2, 3]\n",
        "print(sum(numeros))\n",
        "print(max(numeros))\n",
        "print(len(numeros))"
      ],
      "metadata": {
        "colab": {
          "base_uri": "https://localhost:8080/"
        },
        "id": "5GCfXkyyqN4l",
        "outputId": "b892e64b-0356-4996-f081-409689881e48"
      },
      "execution_count": null,
      "outputs": [
        {
          "output_type": "stream",
          "name": "stdout",
          "text": [
            "6\n",
            "3\n",
            "3\n"
          ]
        }
      ]
    },
    {
      "cell_type": "markdown",
      "source": [
        "## 4. Estruturas de Controle"
      ],
      "metadata": {
        "id": "94EizeMFqXgU"
      }
    },
    {
      "cell_type": "markdown",
      "source": [
        "**Condicionais**\n",
        "\n",
        "if, elif, else: Executam blocos de código conforme condições."
      ],
      "metadata": {
        "id": "W3y4qUCBqgOs"
      }
    },
    {
      "cell_type": "code",
      "source": [
        "nota = 85\n",
        "if nota >= 90:\n",
        "    print(\"Nota: A\")\n",
        "elif nota >= 80:\n",
        "    print(\"Nota: B\")\n",
        "elif nota >= 70:\n",
        "    print(\"Nota: C\")\n",
        "else:\n",
        "    print(\"Nota: D\")"
      ],
      "metadata": {
        "colab": {
          "base_uri": "https://localhost:8080/"
        },
        "id": "dfFtsegNqm5E",
        "outputId": "e1953910-6bff-4418-fa23-1946fa1b59e8"
      },
      "execution_count": null,
      "outputs": [
        {
          "output_type": "stream",
          "name": "stdout",
          "text": [
            "Nota: B\n"
          ]
        }
      ]
    },
    {
      "cell_type": "markdown",
      "source": [
        "**Laços de Repetição**"
      ],
      "metadata": {
        "id": "M7zGes4AqpdT"
      }
    },
    {
      "cell_type": "markdown",
      "source": [
        "**for**: Itera sobre sequências (listas, tuplas, strings)."
      ],
      "metadata": {
        "id": "waOl3yrHqss7"
      }
    },
    {
      "cell_type": "code",
      "source": [
        "frutas = [\"maçã\", \"banana\", \"laranja\"]\n",
        "for fruta in frutas:\n",
        "    print(fruta)"
      ],
      "metadata": {
        "colab": {
          "base_uri": "https://localhost:8080/"
        },
        "id": "mtz2Xk4Lqu57",
        "outputId": "90f0a252-463f-4b93-d579-d083c4030685"
      },
      "execution_count": null,
      "outputs": [
        {
          "output_type": "stream",
          "name": "stdout",
          "text": [
            "maçã\n",
            "banana\n",
            "laranja\n"
          ]
        }
      ]
    },
    {
      "cell_type": "markdown",
      "source": [
        "**while**: Repete enquanto a condição for verdadeira."
      ],
      "metadata": {
        "id": "9o8IMT7vq5oz"
      }
    },
    {
      "cell_type": "code",
      "source": [
        "contador = 1\n",
        "while contador <= 5:\n",
        "    print(\"Convidado:\", contador)\n",
        "    contador += 1"
      ],
      "metadata": {
        "colab": {
          "base_uri": "https://localhost:8080/"
        },
        "id": "GPRxNihvq-Gq",
        "outputId": "9ff32ded-f97a-4e6c-8a34-26dc455f543b"
      },
      "execution_count": null,
      "outputs": [
        {
          "output_type": "stream",
          "name": "stdout",
          "text": [
            "Convidado: 1\n",
            "Convidado: 2\n",
            "Convidado: 3\n",
            "Convidado: 4\n",
            "Convidado: 5\n"
          ]
        }
      ]
    },
    {
      "cell_type": "markdown",
      "source": [
        "**break, continue, pass**: Controlam o fluxo dentro dos loops.\n",
        "\n",
        "- break interrompe o laço.\n",
        "\n",
        "- continue pula para a próxima iteração.\n",
        "\n",
        "- pass não faz nada, serve como placeholder."
      ],
      "metadata": {
        "id": "n_uPEiBZrA2S"
      }
    },
    {
      "cell_type": "code",
      "source": [
        "print(\"Exemplo com break:\")\n",
        "for i in range(1, 11):\n",
        "    if i == 6:\n",
        "        print(\"Encontrei o 6. Quebrando o loop.\")\n",
        "        break\n",
        "    print(i)"
      ],
      "metadata": {
        "colab": {
          "base_uri": "https://localhost:8080/"
        },
        "id": "lODop2Lzra9B",
        "outputId": "cf8961e1-5ac9-4c42-eda6-51bae4ac3e56"
      },
      "execution_count": null,
      "outputs": [
        {
          "output_type": "stream",
          "name": "stdout",
          "text": [
            "Exemplo com break:\n",
            "1\n",
            "2\n",
            "3\n",
            "4\n",
            "5\n",
            "Encontrei o 6. Quebrando o loop.\n"
          ]
        }
      ]
    },
    {
      "cell_type": "code",
      "source": [
        "print(\"Exemplo com continue:\")\n",
        "for i in range(1, 11):\n",
        "    if i % 2 == 0:\n",
        "        print(f\"Pares ({i}), pulando para a próxima iteração.\")\n",
        "        continue\n",
        "    print(i)"
      ],
      "metadata": {
        "colab": {
          "base_uri": "https://localhost:8080/"
        },
        "id": "i9AM3vUArdUJ",
        "outputId": "986b2c81-acd5-4768-875d-8f7ed59d82b0"
      },
      "execution_count": null,
      "outputs": [
        {
          "output_type": "stream",
          "name": "stdout",
          "text": [
            "Exemplo com continue:\n",
            "1\n",
            "Pares (2), pulando para a próxima iteração.\n",
            "3\n",
            "Pares (4), pulando para a próxima iteração.\n",
            "5\n",
            "Pares (6), pulando para a próxima iteração.\n",
            "7\n",
            "Pares (8), pulando para a próxima iteração.\n",
            "9\n",
            "Pares (10), pulando para a próxima iteração.\n"
          ]
        }
      ]
    },
    {
      "cell_type": "code",
      "source": [
        "print(\"Exemplo com pass:\")\n",
        "for i in range(1, 11):\n",
        "    if i % 2 == 0:\n",
        "        pass\n",
        "    else:\n",
        "        print(i)"
      ],
      "metadata": {
        "colab": {
          "base_uri": "https://localhost:8080/"
        },
        "id": "DoOy_ofarKKS",
        "outputId": "fa2cd1a1-62f7-445a-cb77-6de7f0a30478"
      },
      "execution_count": null,
      "outputs": [
        {
          "output_type": "stream",
          "name": "stdout",
          "text": [
            "Exemplo com pass:\n",
            "1\n",
            "3\n",
            "5\n",
            "7\n",
            "9\n"
          ]
        }
      ]
    },
    {
      "cell_type": "markdown",
      "source": [
        "**Try/Except**"
      ],
      "metadata": {
        "id": "T9LqF38psGLF"
      }
    },
    {
      "cell_type": "code",
      "source": [
        "try:\n",
        "    valor = int(input(\"Digite um número: \"))\n",
        "    resultado = 10 / valor\n",
        "except ValueError:\n",
        "    print(\"Entrada inválida! Por favor, digite um número inteiro.\")\n",
        "except ZeroDivisionError:\n",
        "    print(\"Não é possível dividir por zero!\")\n",
        "else:\n",
        "    print(\"Divisão realizada com sucesso! Resultado:\", resultado)\n",
        "finally:\n",
        "    print(\"Execução finalizada.\")\n"
      ],
      "metadata": {
        "colab": {
          "base_uri": "https://localhost:8080/"
        },
        "id": "yBEWoVoRr5Rw",
        "outputId": "9646986d-4d86-4668-b016-1a6b6f1718d9"
      },
      "execution_count": null,
      "outputs": [
        {
          "output_type": "stream",
          "name": "stdout",
          "text": [
            "Digite um número: 4\n",
            "Divisão realizada com sucesso! Resultado: 2.5\n",
            "Execução finalizada.\n"
          ]
        }
      ]
    },
    {
      "cell_type": "markdown",
      "source": [
        "## 5. Manipulação de Arquivos"
      ],
      "metadata": {
        "id": "irKrhETApvu-"
      }
    },
    {
      "cell_type": "markdown",
      "source": [
        "Python permite ler e escrever arquivos com facilidade.\n",
        "\n"
      ],
      "metadata": {
        "id": "TNxvknx0pxp-"
      }
    },
    {
      "cell_type": "markdown",
      "source": [
        "**a. Escrevendo em um arquivo**"
      ],
      "metadata": {
        "id": "xQyea4u0sUMO"
      }
    },
    {
      "cell_type": "code",
      "source": [
        "with open(\"arquivo.txt\", \"w\") as arquivo:\n",
        "    arquivo.write(\"Olá, mundo!\\n\")\n",
        "    arquivo.write(\"Escrevendo em um arquivo.\")\n"
      ],
      "metadata": {
        "id": "9wn3eqoQptjV"
      },
      "execution_count": null,
      "outputs": []
    },
    {
      "cell_type": "markdown",
      "source": [
        "**b. Lendo um arquivo**"
      ],
      "metadata": {
        "id": "oNou8XGwsfn2"
      }
    },
    {
      "cell_type": "code",
      "source": [
        "with open(\"arquivo.txt\", \"r\") as arquivo:\n",
        "    conteudo = arquivo.read()\n",
        "    print(conteudo)\n"
      ],
      "metadata": {
        "colab": {
          "base_uri": "https://localhost:8080/"
        },
        "id": "QN8w4NuCsX2G",
        "outputId": "b5cedb7b-7534-4a15-8bff-3d7140c51655"
      },
      "execution_count": null,
      "outputs": [
        {
          "output_type": "stream",
          "name": "stdout",
          "text": [
            "Olá, mundo!\n",
            "Escrevendo em um arquivo.\n"
          ]
        }
      ]
    },
    {
      "cell_type": "markdown",
      "source": [
        "**c. Lendo linha por linha**"
      ],
      "metadata": {
        "id": "NVjGEf5DskOe"
      }
    },
    {
      "cell_type": "code",
      "source": [
        "with open(\"arquivo.txt\", \"r\") as arquivo:\n",
        "    for linha in arquivo:\n",
        "        print(linha.strip())"
      ],
      "metadata": {
        "colab": {
          "base_uri": "https://localhost:8080/"
        },
        "id": "Wr4Keug4siNd",
        "outputId": "fa85d313-83fb-4cea-f6a6-e4db73d0a73b"
      },
      "execution_count": null,
      "outputs": [
        {
          "output_type": "stream",
          "name": "stdout",
          "text": [
            "Olá, mundo!\n",
            "Escrevendo em um arquivo.\n"
          ]
        }
      ]
    },
    {
      "cell_type": "markdown",
      "source": [
        "**d. Adicionando conteúdo a um arquivo**"
      ],
      "metadata": {
        "id": "MtZFWBb0sqQF"
      }
    },
    {
      "cell_type": "code",
      "source": [
        "with open(\"arquivo.txt\", \"a\") as arquivo:\n",
        "    arquivo.write(\"\\nNova linha adicionada.\")"
      ],
      "metadata": {
        "id": "8gS8WTRLsnx9"
      },
      "execution_count": null,
      "outputs": []
    },
    {
      "cell_type": "code",
      "source": [
        "def obrigada():\n",
        "    mensagem = \"\"\"\n",
        "    ***************************************\n",
        "    *                                     *\n",
        "    *              OBRIGADA!              *\n",
        "    *                                     *\n",
        "    * 😊 Excelente bootcamp a voces!  😊 *\n",
        "    *                                     *\n",
        "    ***************************************\n",
        "    \"\"\"\n",
        "    print(mensagem)\n",
        "\n",
        "obrigada()\n"
      ],
      "metadata": {
        "colab": {
          "base_uri": "https://localhost:8080/"
        },
        "id": "WMiMx1c5tCS8",
        "outputId": "106895d3-2809-4e6f-b15d-cb4f005f92d9"
      },
      "execution_count": null,
      "outputs": [
        {
          "output_type": "stream",
          "name": "stdout",
          "text": [
            "\n",
            "    ***************************************\n",
            "    *                                     *\n",
            "    *              OBRIGADA!              *\n",
            "    *                                     *\n",
            "    * 😊 Excelente bootcamp a voces!  😊 *\n",
            "    *                                     *\n",
            "    ***************************************\n",
            "    \n"
          ]
        }
      ]
    },
    {
      "cell_type": "code",
      "source": [],
      "metadata": {
        "id": "8krQCKxZtLPD"
      },
      "execution_count": null,
      "outputs": []
    }
  ]
}