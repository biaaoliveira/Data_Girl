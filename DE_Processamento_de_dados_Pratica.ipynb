{
  "nbformat": 4,
  "nbformat_minor": 0,
  "metadata": {
    "colab": {
      "provenance": [],
      "include_colab_link": true
    },
    "kernelspec": {
      "name": "python3",
      "display_name": "Python 3"
    },
    "language_info": {
      "name": "python"
    }
  },
  "cells": [
    {
      "cell_type": "markdown",
      "metadata": {
        "id": "view-in-github",
        "colab_type": "text"
      },
      "source": [
        "<a href=\"https://colab.research.google.com/github/biaaoliveira/Data_Girl/blob/main/DE_Processamento_de_dados_Pratica.ipynb\" target=\"_parent\"><img src=\"https://colab.research.google.com/assets/colab-badge.svg\" alt=\"Open In Colab\"/></a>"
      ]
    },
    {
      "cell_type": "markdown",
      "source": [
        "#### Parte 1:"
      ],
      "metadata": {
        "id": "li1lpnmK9MQM"
      }
    },
    {
      "cell_type": "markdown",
      "source": [
        "Execute o codigo abaixo:\n",
        "\n",
        "```shell\n",
        "python kafka_producer.py\n",
        "```"
      ],
      "metadata": {
        "id": "D9h7iFgRoliq"
      }
    },
    {
      "cell_type": "code",
      "source": [
        "# kafka_producer.py\n",
        "\n",
        "from confluent_kafka import Producer\n",
        "import sys\n",
        "\n",
        "# Função de callback para notificar sobre o status da entrega da mensagem\n",
        "def delivery_callback(err, msg):\n",
        "    if err:\n",
        "        print(f\"Falha ao entregar mensagem: {err}\")\n",
        "    else:\n",
        "        print(f\"Mensagem entregue em {msg.topic()} [{msg.partition()}] offset {msg.offset()}\")\n",
        "\n",
        "# Configurações do produtor Kafka\n",
        "conf = {\n",
        "    'bootstrap.servers': 'localhost:9092'  # Endereço do broker Kafka local\n",
        "}\n",
        "\n",
        "# Cria uma instância do Producer\n",
        "producer = Producer(conf)\n",
        "\n",
        "# Envia mensagens lidas do terminal para o Kafka\n",
        "print(\"Digite mensagens para enviar ao Kafka. Pressione Ctrl+C para sair.\")\n",
        "try:\n",
        "    for line in sys.stdin:\n",
        "        # Remove o caractere de nova linha e envia a mensagem\n",
        "        producer.produce(\n",
        "            'meu_topico',  # Nome do tópico\n",
        "            value=line.rstrip(),  # Mensagem\n",
        "            callback=delivery_callback  # Função de callback para entrega\n",
        "        )\n",
        "        # Processa eventos de entrega de mensagens\n",
        "        producer.poll(0)\n",
        "except KeyboardInterrupt:\n",
        "    print(\"\\nEncerrando produtor...\")\n",
        "\n",
        "# Aguarda a entrega de todas as mensagens pendentes antes de sair\n",
        "producer.flush()\n",
        "print(\"Produtor finalizado.\")"
      ],
      "metadata": {
        "id": "QyVz9goe905T"
      },
      "execution_count": null,
      "outputs": []
    },
    {
      "cell_type": "markdown",
      "source": [
        "Em um novo terminal, execute:\n",
        "```shell\n",
        "python kafka_consumer.py\n",
        "```"
      ],
      "metadata": {
        "id": "GaoFWRB3o69B"
      }
    },
    {
      "cell_type": "code",
      "execution_count": null,
      "metadata": {
        "id": "I9gD2-_6np7Z"
      },
      "outputs": [],
      "source": [
        "from confluent_kafka import Consumer\n",
        "\n",
        "# Configurações do consumidor Kafka\n",
        "conf = {\n",
        "    'bootstrap.servers': 'localhost:9092',  # Endereço do broker Kafka local\n",
        "    'group.id': 'meu_grupo_consumidor',     # ID do grupo de consumidores\n",
        "    'auto.offset.reset': 'earliest'         # Começa a ler do início do tópico\n",
        "}\n",
        "\n",
        "# Cria uma instância do Consumer\n",
        "consumer = Consumer(conf)\n",
        "\n",
        "# Inscreve o consumidor no tópico desejado\n",
        "consumer.subscribe(['meu_topico'])\n",
        "\n",
        "print(\"Consumidor iniciado. Aguardando mensagens... (Ctrl+C para sair)\")\n",
        "try:\n",
        "    while True:\n",
        "        # Aguarda por novas mensagens (timeout de 1 segundo)\n",
        "        msg = consumer.poll(1.0)\n",
        "        if msg is None:\n",
        "            continue  # Nenhuma mensagem recebida\n",
        "        if msg.error():\n",
        "            print(f\"Erro: {msg.error()}\")\n",
        "        else:\n",
        "            # Exibe a mensagem recebida no terminal\n",
        "            print(f\"Recebido: {msg.value().decode('utf-8')}\")\n",
        "except KeyboardInterrupt:\n",
        "    print(\"\\nEncerrando consumidor...\")\n",
        "\n",
        "# Fecha a conexão do consumidor com o Kafka\n",
        "consumer.close()\n",
        "print(\"Consumidor finalizado.\")\n"
      ]
    },
    {
      "cell_type": "markdown",
      "source": [
        "#### Parte 2:"
      ],
      "metadata": {
        "id": "lAuwqC4-9Rss"
      }
    },
    {
      "cell_type": "markdown",
      "source": [
        "Execute o codigo abaixo:\n",
        "\n",
        "```shell\n",
        "python kafka_producer_mult.py\n",
        "```"
      ],
      "metadata": {
        "id": "WA8YEcyQAEyz"
      }
    },
    {
      "cell_type": "code",
      "source": [
        "from confluent_kafka import Producer\n",
        "import sys\n",
        "\n",
        "# Lista de tópicos disponíveis\n",
        "TOPICOS_DISPONIVEIS = ['topico_a', 'topico_b', 'topico_c']\n",
        "\n",
        "def delivery_callback(err, msg):\n",
        "    if err:\n",
        "        print(f\"Falha ao entregar mensagem: {err}\")\n",
        "    else:\n",
        "        print(f\"Mensagem entregue em {msg.topic()} [{msg.partition()}] offset {msg.offset()}\")\n",
        "\n",
        "conf = {\n",
        "    'bootstrap.servers': 'localhost:9092'\n",
        "}\n",
        "\n",
        "producer = Producer(conf)\n",
        "\n",
        "print(\"Tópicos disponíveis para envio:\")\n",
        "for idx, topico in enumerate(TOPICOS_DISPONIVEIS):\n",
        "    print(f\"{idx}: {topico}\")\n",
        "\n",
        "print(\"\\nDigite o número do tópico desejado e a mensagem, separados por dois pontos (ex: 1:Olá Kafka!)\")\n",
        "print(\"Pressione Ctrl+C para sair.\")\n",
        "\n",
        "try:\n",
        "    for line in sys.stdin:\n",
        "        # Exemplo de entrada: 1:Mensagem para o tópico B\n",
        "        if ':' not in line:\n",
        "            print(\"Formato inválido. Use <numero_topico>:<mensagem>\")\n",
        "            continue\n",
        "\n",
        "        idx_str, mensagem = line.split(':', 1)\n",
        "        idx_str = idx_str.strip()\n",
        "        mensagem = mensagem.strip()\n",
        "\n",
        "        # Validação do índice do tópico\n",
        "        if not idx_str.isdigit() or int(idx_str) not in range(len(TOPICOS_DISPONIVEIS)):\n",
        "            print(\"Índice de tópico inválido.\")\n",
        "            continue\n",
        "\n",
        "        topico_escolhido = TOPICOS_DISPONIVEIS[int(idx_str)]\n",
        "\n",
        "        producer.produce(\n",
        "            topico_escolhido,\n",
        "            value=mensagem,\n",
        "            callback=delivery_callback\n",
        "        )\n",
        "        producer.poll(0)\n",
        "except KeyboardInterrupt:\n",
        "    print(\"\\nEncerrando produtor...\")\n",
        "\n",
        "producer.flush()\n",
        "print(\"Produtor finalizado.\")\n"
      ],
      "metadata": {
        "id": "awY3s13e9TD5"
      },
      "execution_count": null,
      "outputs": []
    },
    {
      "cell_type": "code",
      "source": [
        "from confluent_kafka import Consumer\n",
        "\n",
        "# Lista de tópicos disponíveis\n",
        "TOPICOS_DISPONIVEIS = ['topico_a', 'topico_b', 'topico_c']\n",
        "\n",
        "conf = {\n",
        "    'bootstrap.servers': 'localhost:9092',\n",
        "    'group.id': 'meu_grupo_consumidor',\n",
        "    'auto.offset.reset': 'earliest'\n",
        "}\n",
        "\n",
        "consumer = Consumer(conf)\n",
        "\n",
        "print(\"Tópicos disponíveis para assinatura:\")\n",
        "for idx, topico in enumerate(TOPICOS_DISPONIVEIS):\n",
        "    print(f\"{idx}: {topico}\")\n",
        "\n",
        "# Usuário escolhe os tópicos que deseja assinar (pode escolher múltiplos, separados por vírgula)\n",
        "indices = input(\"\\nDigite os números dos tópicos que deseja assinar (ex: 0,2): \")\n",
        "indices = [i.strip() for i in indices.split(',') if i.strip().isdigit() and int(i.strip()) in range(len(TOPICOS_DISPONIVEIS))]\n",
        "topicos_escolhidos = [TOPICOS_DISPONIVEIS[int(i)] for i in indices]\n",
        "\n",
        "if not topicos_escolhidos:\n",
        "    print(\"Nenhum tópico válido selecionado. Encerrando consumidor.\")\n",
        "    consumer.close()\n",
        "    exit(0)\n",
        "\n",
        "consumer.subscribe(topicos_escolhidos)\n",
        "print(f\"\\nConsumidor iniciado. Assinando os tópicos: {', '.join(topicos_escolhidos)} (Ctrl+C para sair)\")\n",
        "\n",
        "try:\n",
        "    while True:\n",
        "        msg = consumer.poll(1.0)\n",
        "        if msg is None:\n",
        "            continue\n",
        "        if msg.error():\n",
        "            print(f\"Erro: {msg.error()}\")\n",
        "        else:\n",
        "            print(f\"[{msg.topic()}] Recebido: {msg.value().decode('utf-8')}\")\n",
        "except KeyboardInterrupt:\n",
        "    print(\"\\nEncerrando consumidor...\")\n",
        "\n",
        "consumer.close()\n",
        "print(\"Consumidor finalizado.\")\n"
      ],
      "metadata": {
        "id": "YazOl7Q-AQuU"
      },
      "execution_count": null,
      "outputs": []
    }
  ]
}